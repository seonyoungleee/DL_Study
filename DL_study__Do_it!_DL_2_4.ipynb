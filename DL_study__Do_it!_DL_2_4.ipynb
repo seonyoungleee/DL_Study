{
  "nbformat": 4,
  "nbformat_minor": 0,
  "metadata": {
    "colab": {
      "name": "DL study_ Do it! DL 2-4",
      "provenance": [],
      "collapsed_sections": [],
      "authorship_tag": "ABX9TyOlASYCz9EbJMpddYhJcgdi",
      "include_colab_link": true
    },
    "kernelspec": {
      "name": "python3",
      "display_name": "Python 3"
    }
  },
  "cells": [
    {
      "cell_type": "markdown",
      "metadata": {
        "id": "view-in-github",
        "colab_type": "text"
      },
      "source": [
        "<a href=\"https://colab.research.google.com/github/seonyoungleee/DL_Study/blob/main/DL_study__Do_it!_DL_2_4.ipynb\" target=\"_parent\"><img src=\"https://colab.research.google.com/assets/colab-badge.svg\" alt=\"Open In Colab\"/></a>"
      ]
    },
    {
      "cell_type": "markdown",
      "metadata": {
        "id": "fDcfqmpPRdYa"
      },
      "source": [
        "Study material: Do it! Deep learning 입문"
      ]
    },
    {
      "cell_type": "markdown",
      "metadata": {
        "id": "XfxUInHFVZgh"
      },
      "source": [
        "# **Chapter 2.**\n",
        "Goal: Run simple functions in numpy, matplotlib in colab environment"
      ]
    },
    {
      "cell_type": "markdown",
      "metadata": {
        "id": "PWxBPqfGSNWI"
      },
      "source": [
        "1D(1x3), 2D(2x3) list"
      ]
    },
    {
      "cell_type": "code",
      "metadata": {
        "colab": {
          "base_uri": "https://localhost:8080/"
        },
        "id": "nSr4yDN6Rh9b",
        "outputId": "58294a5f-2493-4e3e-cd73-90385d265260"
      },
      "source": [
        "my_list = [10, 'hello lost', 20]\n",
        "print(my_list[1])"
      ],
      "execution_count": null,
      "outputs": [
        {
          "output_type": "stream",
          "text": [
            "hello lost\n"
          ],
          "name": "stdout"
        }
      ]
    },
    {
      "cell_type": "code",
      "metadata": {
        "id": "49zrLz44Sb3Y"
      },
      "source": [
        "my_list_2 = [[10,20,30],[40,50,60]]"
      ],
      "execution_count": null,
      "outputs": []
    },
    {
      "cell_type": "code",
      "metadata": {
        "colab": {
          "base_uri": "https://localhost:8080/"
        },
        "id": "_qbmdPmxS3B7",
        "outputId": "039fcc53-a010-4f99-8064-5ba502c062c9"
      },
      "source": [
        "print(my_list_2[1][1])"
      ],
      "execution_count": null,
      "outputs": [
        {
          "output_type": "stream",
          "text": [
            "50\n"
          ],
          "name": "stdout"
        }
      ]
    },
    {
      "cell_type": "markdown",
      "metadata": {
        "id": "N1mLtARjS8La"
      },
      "source": [
        "numpy import & check ver."
      ]
    },
    {
      "cell_type": "code",
      "metadata": {
        "colab": {
          "base_uri": "https://localhost:8080/"
        },
        "id": "J4dVgj0hS_CF",
        "outputId": "9d0d3378-e57c-458d-a7f9-065a3b3a490c"
      },
      "source": [
        "import numpy as np\n",
        "print(np.__version__)"
      ],
      "execution_count": null,
      "outputs": [
        {
          "output_type": "stream",
          "text": [
            "1.19.5\n"
          ],
          "name": "stdout"
        }
      ]
    },
    {
      "cell_type": "markdown",
      "metadata": {
        "id": "J-dyz-NHTIVB"
      },
      "source": [
        "2D array using array()"
      ]
    },
    {
      "cell_type": "code",
      "metadata": {
        "colab": {
          "base_uri": "https://localhost:8080/"
        },
        "id": "RgcrwZZITOLz",
        "outputId": "b335f339-f3ef-43d3-e7b8-1e2e26e4aa8f"
      },
      "source": [
        "my_arr = np.array([[10,20,30],[40,50,60]])\n",
        "print(my_arr)"
      ],
      "execution_count": null,
      "outputs": [
        {
          "output_type": "stream",
          "text": [
            "[[10 20 30]\n",
            " [40 50 60]]\n"
          ],
          "name": "stdout"
        }
      ]
    },
    {
      "cell_type": "markdown",
      "metadata": {
        "id": "1JuHbzlzTWRS"
      },
      "source": [
        "check np array using type(): \n",
        "the last line of the code cell prints the result without print()"
      ]
    },
    {
      "cell_type": "code",
      "metadata": {
        "colab": {
          "base_uri": "https://localhost:8080/"
        },
        "id": "qTui3d2nTaVj",
        "outputId": "4a7380c5-eedf-4ef5-e780-798f2c97a092"
      },
      "source": [
        "type(my_arr)"
      ],
      "execution_count": null,
      "outputs": [
        {
          "output_type": "execute_result",
          "data": {
            "text/plain": [
              "numpy.ndarray"
            ]
          },
          "metadata": {
            "tags": []
          },
          "execution_count": 6
        }
      ]
    },
    {
      "cell_type": "markdown",
      "metadata": {
        "id": "uSjySEn2Tt0k"
      },
      "source": [
        "element in numpy array"
      ]
    },
    {
      "cell_type": "code",
      "metadata": {
        "colab": {
          "base_uri": "https://localhost:8080/"
        },
        "id": "jpd_m6T3TwY1",
        "outputId": "ca425d8e-9a06-4716-e5a5-653e5a2386a1"
      },
      "source": [
        "my_arr[0][2]"
      ],
      "execution_count": null,
      "outputs": [
        {
          "output_type": "execute_result",
          "data": {
            "text/plain": [
              "30"
            ]
          },
          "metadata": {
            "tags": []
          },
          "execution_count": 7
        }
      ]
    },
    {
      "cell_type": "markdown",
      "metadata": {
        "id": "O1GLL0h0TzUM"
      },
      "source": [
        "numpy built-in function (faster than 'for statement')"
      ]
    },
    {
      "cell_type": "code",
      "metadata": {
        "colab": {
          "base_uri": "https://localhost:8080/"
        },
        "id": "d8vKI8CST68w",
        "outputId": "1b7a8c86-963a-4333-facb-cdeea133a94c"
      },
      "source": [
        "np.sum(my_arr)"
      ],
      "execution_count": null,
      "outputs": [
        {
          "output_type": "execute_result",
          "data": {
            "text/plain": [
              "210"
            ]
          },
          "metadata": {
            "tags": []
          },
          "execution_count": 8
        }
      ]
    },
    {
      "cell_type": "markdown",
      "metadata": {
        "id": "VL8q7sIaUJWH"
      },
      "source": [
        "draw graph using matplotlib"
      ]
    },
    {
      "cell_type": "code",
      "metadata": {
        "id": "9PpTB-djUMsL"
      },
      "source": [
        "import matplotlib.pyplot as plt"
      ],
      "execution_count": null,
      "outputs": []
    },
    {
      "cell_type": "markdown",
      "metadata": {
        "id": "rOVhjw7WUUBS"
      },
      "source": [
        "draw line plot"
      ]
    },
    {
      "cell_type": "code",
      "metadata": {
        "colab": {
          "base_uri": "https://localhost:8080/",
          "height": 265
        },
        "id": "S3KgvJMiUQzC",
        "outputId": "04280e85-2f33-4224-9eac-3dbfc74bc74c"
      },
      "source": [
        "plt.plot([1,2,3,4,5],[1,4,9,16,25])\n",
        "plt.show()"
      ],
      "execution_count": null,
      "outputs": [
        {
          "output_type": "display_data",
          "data": {
            "image/png": "[encoded data removed]",
            "text/plain": [
              "<Figure size 432x288 with 1 Axes>"
            ]
          },
          "metadata": {
            "tags": [],
            "needs_background": "light"
          }
        }
      ]
    },
    {
      "cell_type": "markdown",
      "metadata": {
        "id": "e7_mwDz5UWf1"
      },
      "source": [
        "draw scatter plot"
      ]
    },
    {
      "cell_type": "code",
      "metadata": {
        "colab": {
          "base_uri": "https://localhost:8080/",
          "height": 265
        },
        "id": "Rq3OXepDUevF",
        "outputId": "e286a283-0a81-4854-bf20-4393f5f6f432"
      },
      "source": [
        "plt.scatter([1,2,3,4,5],[1,4,9,16,25])\n",
        "plt.show()"
      ],
      "execution_count": null,
      "outputs": [
        {
          "output_type": "display_data",
          "data": {
            "image/png": "[encoded data removed]",
            "text/plain": [
              "<Figure size 432x288 with 1 Axes>"
            ]
          },
          "metadata": {
            "tags": [],
            "needs_background": "light"
          }
        }
      ]
    },
    {
      "cell_type": "markdown",
      "metadata": {
        "id": "WZz8I2IhUmaV"
      },
      "source": [
        "draw scatter plot with numpy array"
      ]
    },
    {
      "cell_type": "code",
      "metadata": {
        "colab": {
          "base_uri": "https://localhost:8080/",
          "height": 265
        },
        "id": "HMrtTaOLUkRr",
        "outputId": "e605e61b-faf2-4d08-d619-a6d37338ccff"
      },
      "source": [
        "x = np.random.randn(1000) # 표준 정규 분포를 따르는 난수 1000개 생성\n",
        "y = np.random.randn(1000) # 표준 정규 분포를 따르는 난수 1000개 생성\n",
        "plt.scatter(x, y)\n",
        "plt.show()"
      ],
      "execution_count": null,
      "outputs": [
        {
          "output_type": "display_data",
          "data": {
            "image/png": "[encoded data removed]",
            "text/plain": [
              "<Figure size 432x288 with 1 Axes>"
            ]
          },
          "metadata": {
            "tags": [],
            "needs_background": "light"
          }
        }
      ]
    },
    {
      "cell_type": "markdown",
      "metadata": {
        "id": "_8bnrq3MVSkO"
      },
      "source": [
        ""
      ]
    },
    {
      "cell_type": "markdown",
      "metadata": {
        "id": "LhGpsQKeV_wT"
      },
      "source": [
        "# **Chapter 3. Goal: Run linear regression, GD (Gradient descent), loss function**"
      ]
    },
    {
      "cell_type": "markdown",
      "metadata": {
        "id": "BhE7O6e4Wi2P"
      },
      "source": [
        "Goal of linear regression: To find slope a and intercept b\n",
        "\n",
        "y=ax+b"
      ]
    },
    {
      "cell_type": "markdown",
      "metadata": {
        "id": "MvHb2pPBcUaR"
      },
      "source": [
        "example: diabetes datasets from sklearn\n",
        "\n",
        "type of the data diabetes: Bunch class (like python dictionary)\n",
        "\n",
        "input: data(442x10), output: target(442x1)"
      ]
    },
    {
      "cell_type": "code",
      "metadata": {
        "id": "r0kVcPRaU4I9"
      },
      "source": [
        "from sklearn.datasets import load_diabetes\n",
        "diabetes = load_diabetes()"
      ],
      "execution_count": null,
      "outputs": []
    },
    {
      "cell_type": "code",
      "metadata": {
        "colab": {
          "base_uri": "https://localhost:8080/"
        },
        "id": "JtsJLdn_dJPs",
        "outputId": "30e5703a-f976-4ed6-ceb8-e95ad2a1b3dd"
      },
      "source": [
        "print(diabetes.data.shape, diabetes.target.shape)"
      ],
      "execution_count": null,
      "outputs": [
        {
          "output_type": "stream",
          "text": [
            "(442, 10) (442,)\n"
          ],
          "name": "stdout"
        }
      ]
    },
    {
      "cell_type": "code",
      "metadata": {
        "colab": {
          "base_uri": "https://localhost:8080/"
        },
        "id": "NVFWJsPIdw7T",
        "outputId": "171bff74-a178-497e-fa1a-08b712a65143"
      },
      "source": [
        "diabetes.data[0:3] # 3data * 10features"
      ],
      "execution_count": null,
      "outputs": [
        {
          "output_type": "execute_result",
          "data": {
            "text/plain": [
              "array([[ 0.03807591,  0.05068012,  0.06169621,  0.02187235, -0.0442235 ,\n",
              "        -0.03482076, -0.04340085, -0.00259226,  0.01990842, -0.01764613],\n",
              "       [-0.00188202, -0.04464164, -0.05147406, -0.02632783, -0.00844872,\n",
              "        -0.01916334,  0.07441156, -0.03949338, -0.06832974, -0.09220405],\n",
              "       [ 0.08529891,  0.05068012,  0.04445121, -0.00567061, -0.04559945,\n",
              "        -0.03419447, -0.03235593, -0.00259226,  0.00286377, -0.02593034]])"
            ]
          },
          "metadata": {
            "tags": []
          },
          "execution_count": 15
        }
      ]
    },
    {
      "cell_type": "code",
      "metadata": {
        "colab": {
          "base_uri": "https://localhost:8080/"
        },
        "id": "-uI4DNU4eJ3c",
        "outputId": "c9b7381d-700a-4a98-aed2-cc4afe99aca0"
      },
      "source": [
        "diabetes.target[:3] # targets of 3 data"
      ],
      "execution_count": null,
      "outputs": [
        {
          "output_type": "execute_result",
          "data": {
            "text/plain": [
              "array([151.,  75., 141.])"
            ]
          },
          "metadata": {
            "tags": []
          },
          "execution_count": 16
        }
      ]
    },
    {
      "cell_type": "markdown",
      "metadata": {
        "id": "nN5LW4zMeasS"
      },
      "source": [
        "visualization using matplotlib of the data of diabetes\n",
        "\n",
        "(with 2 features to draw in 2D space)"
      ]
    },
    {
      "cell_type": "code",
      "metadata": {
        "colab": {
          "base_uri": "https://localhost:8080/",
          "height": 279
        },
        "id": "Zan6czbueirH",
        "outputId": "bca863e6-8066-404d-96fc-0bcd72192c2c"
      },
      "source": [
        "import matplotlib.pyplot as plt\n",
        "plt.scatter(diabetes.data[:,2], diabetes.target) # x: first, second features of all patients. y: targets of all patients.\n",
        "plt.xlabel('x')\n",
        "plt.ylabel('y')\n",
        "plt.show()"
      ],
      "execution_count": null,
      "outputs": [
        {
          "output_type": "display_data",
          "data": {
            "image/png": "[encoded data removed]",
            "text/plain": [
              "<Figure size 432x288 with 1 Axes>"
            ]
          },
          "metadata": {
            "tags": [],
            "needs_background": "light"
          }
        }
      ]
    },
    {
      "cell_type": "markdown",
      "metadata": {
        "id": "lJ8cbLYRfLn5"
      },
      "source": [
        "preparation of the training data"
      ]
    },
    {
      "cell_type": "code",
      "metadata": {
        "id": "4WwHM8iyfGrN"
      },
      "source": [
        "x = diabetes.data[:,2]\n",
        "y = diabetes.target"
      ],
      "execution_count": null,
      "outputs": []
    },
    {
      "cell_type": "markdown",
      "metadata": {
        "id": "PXnqZ7_Bm_Vj"
      },
      "source": [
        "example: find w, b\n",
        "\n",
        "1) set random w, b\n",
        "\n",
        "2) calculate y hat from random sample from x\n",
        "\n",
        "3) compare y hat and y\n",
        "\n",
        "4) update w, b\n",
        "\n",
        "5) repeat 2-4 using all samples"
      ]
    },
    {
      "cell_type": "code",
      "metadata": {
        "id": "Kn5tUUfApsd3"
      },
      "source": [
        "w = 1.0\n",
        "b = 1.0"
      ],
      "execution_count": null,
      "outputs": []
    },
    {
      "cell_type": "code",
      "metadata": {
        "colab": {
          "base_uri": "https://localhost:8080/"
        },
        "id": "JppmzsQBqKjP",
        "outputId": "59cc762c-f577-46f2-c064-ee0f680bf187"
      },
      "source": [
        "y_hat = x[0]*w + b\n",
        "print(y_hat) # target y: 151"
      ],
      "execution_count": null,
      "outputs": [
        {
          "output_type": "stream",
          "text": [
            "1.0616962065186886\n"
          ],
          "name": "stdout"
        }
      ]
    },
    {
      "cell_type": "code",
      "metadata": {
        "colab": {
          "base_uri": "https://localhost:8080/"
        },
        "id": "6lz_RdJTqQE-",
        "outputId": "3f9f0dd8-5858-49b5-be62-ed64c17d8d47"
      },
      "source": [
        "print(y[0])"
      ],
      "execution_count": null,
      "outputs": [
        {
          "output_type": "stream",
          "text": [
            "151.0\n"
          ],
          "name": "stdout"
        }
      ]
    },
    {
      "cell_type": "code",
      "metadata": {
        "colab": {
          "base_uri": "https://localhost:8080/"
        },
        "id": "l9uf5smxqTi1",
        "outputId": "17473bd0-b122-40c0-a952-e8f4fef79cc3"
      },
      "source": [
        "# update y_hat by changing w value\n",
        "w_inc = w + 0.1\n",
        "y_hat_inc = x[0] * w_inc + b\n",
        "print(y_hat_inc)"
      ],
      "execution_count": null,
      "outputs": [
        {
          "output_type": "stream",
          "text": [
            "1.0678658271705574\n"
          ],
          "name": "stdout"
        }
      ]
    },
    {
      "cell_type": "code",
      "metadata": {
        "colab": {
          "base_uri": "https://localhost:8080/"
        },
        "id": "dq33KV8fquix",
        "outputId": "904d9854-39c0-4bdd-dca1-4ff2581ff254"
      },
      "source": [
        "# update w (dy_hat / dw)\n",
        "w_rate = (y_hat_inc - y_hat) / (w_inc - w)\n",
        "print(w_rate)\n",
        "# w_rate: w rate about x[0]"
      ],
      "execution_count": null,
      "outputs": [
        {
          "output_type": "stream",
          "text": [
            "0.061696206518688734\n"
          ],
          "name": "stdout"
        }
      ]
    },
    {
      "cell_type": "markdown",
      "metadata": {
        "id": "Gm0rAuNhrymh"
      },
      "source": [
        "update w using w_rate"
      ]
    },
    {
      "cell_type": "code",
      "metadata": {
        "colab": {
          "base_uri": "https://localhost:8080/"
        },
        "id": "bmf02EF9rZ-i",
        "outputId": "a7aa883a-7f23-4abd-c252-8251c56cfcb6"
      },
      "source": [
        "w_new = w + w_rate\n",
        "print(w_new)"
      ],
      "execution_count": null,
      "outputs": [
        {
          "output_type": "stream",
          "text": [
            "1.0616962065186888\n"
          ],
          "name": "stdout"
        }
      ]
    },
    {
      "cell_type": "markdown",
      "metadata": {
        "id": "ULo4g4Kds4k3"
      },
      "source": [
        "update b using b_rate"
      ]
    },
    {
      "cell_type": "code",
      "metadata": {
        "colab": {
          "base_uri": "https://localhost:8080/"
        },
        "id": "oMTaAUctsxmb",
        "outputId": "be5d10ed-f632-472d-9f69-113dcd8ababf"
      },
      "source": [
        "b_inc = b + 0.1\n",
        "y_hat_inc = x[0] * w + b_inc\n",
        "print(y_hat_inc)"
      ],
      "execution_count": null,
      "outputs": [
        {
          "output_type": "stream",
          "text": [
            "1.1616962065186887\n"
          ],
          "name": "stdout"
        }
      ]
    },
    {
      "cell_type": "code",
      "metadata": {
        "colab": {
          "base_uri": "https://localhost:8080/"
        },
        "id": "9NedCDRVtAOC",
        "outputId": "34ecd4b6-2a91-46ec-9ac3-32a36209ea17"
      },
      "source": [
        "b_rate = (y_hat_inc - y_hat) / (b_inc - b)\n",
        "print(b_rate)"
      ],
      "execution_count": null,
      "outputs": [
        {
          "output_type": "stream",
          "text": [
            "1.0\n"
          ],
          "name": "stdout"
        }
      ]
    },
    {
      "cell_type": "code",
      "metadata": {
        "colab": {
          "base_uri": "https://localhost:8080/"
        },
        "id": "Is08LNeQtFha",
        "outputId": "e95c7743-e1fd-4726-aaea-73ce20c6966a"
      },
      "source": [
        "b_new = b + 1\n",
        "print(b_new)"
      ],
      "execution_count": null,
      "outputs": [
        {
          "output_type": "stream",
          "text": [
            "2.0\n"
          ],
          "name": "stdout"
        }
      ]
    },
    {
      "cell_type": "markdown",
      "metadata": {
        "id": "bJEldo9TtTnu"
      },
      "source": [
        "disadvantages of above method:\n",
        "\n",
        "1) if y_hat is too small than y, hard to update w and b value with large scale\n",
        "\n",
        "2) if y_hat is bigger than y, cannot decrease y_hat\n",
        "\n",
        "==> Backpropagation is the solution!"
      ]
    },
    {
      "cell_type": "markdown",
      "metadata": {
        "id": "-uVOF1oZuH8j"
      },
      "source": [
        "[Backpropagation]\n",
        "by multiplying w_rate by (y hat - y),\n",
        "\n",
        "1) can update w,b effectively when y_hat is too small than y\n",
        "\n",
        "2) can update the direction of w, b when y_hat value oversteps y"
      ]
    },
    {
      "cell_type": "code",
      "metadata": {
        "colab": {
          "base_uri": "https://localhost:8080/"
        },
        "id": "sSRjkjqXtN65",
        "outputId": "b39c3291-6be4-4de6-bcca-788aebd15158"
      },
      "source": [
        "# update w with err * rate\n",
        "# x[0]\n",
        "err = y[0] - y_hat\n",
        "w_new = w + w_rate * err\n",
        "b_new = b + 1 * err\n",
        "print(w_new, b_new)"
      ],
      "execution_count": null,
      "outputs": [
        {
          "output_type": "stream",
          "text": [
            "10.250624555904514 150.9383037934813\n"
          ],
          "name": "stdout"
        }
      ]
    },
    {
      "cell_type": "code",
      "metadata": {
        "colab": {
          "base_uri": "https://localhost:8080/"
        },
        "id": "y4XHk0upvMS6",
        "outputId": "e661e3cf-d985-4287-8e56-b2694cce25c8"
      },
      "source": [
        "# w_rate = x[1]\n",
        "y_hat = x[1] * w_new + b_new\n",
        "err = y[1] - y_hat\n",
        "w_rate = x[1]\n",
        "w_new = w_new + w_rate * err\n",
        "b_new = b_new + 1 * err\n",
        "print(w_new, b_new)"
      ],
      "execution_count": null,
      "outputs": [
        {
          "output_type": "stream",
          "text": [
            "14.132317616381767 75.52764127612664\n"
          ],
          "name": "stdout"
        }
      ]
    },
    {
      "cell_type": "code",
      "metadata": {
        "colab": {
          "base_uri": "https://localhost:8080/"
        },
        "id": "PDXN_PR0vosZ",
        "outputId": "eb4fa93d-fa8b-44c9-f71b-4a4eb4343686"
      },
      "source": [
        "# repeat using all sample\n",
        "for x_i, y_i in zip(x,y): # zip(): gets each element from multi array\n",
        "  y_hat = x_i * w + b\n",
        "  err = y_i - y_hat\n",
        "  w_rate = x_i\n",
        "  w = w + w_rate * err\n",
        "  b = b + 1 * err\n",
        "print(w,b)"
      ],
      "execution_count": null,
      "outputs": [
        {
          "output_type": "stream",
          "text": [
            "587.8654539985689 99.40935564531424\n"
          ],
          "name": "stdout"
        }
      ]
    },
    {
      "cell_type": "code",
      "metadata": {
        "colab": {
          "base_uri": "https://localhost:8080/",
          "height": 279
        },
        "id": "DRVbwmr_wMgy",
        "outputId": "0b3021cc-4724-4321-c0a5-4bf50391d6f4"
      },
      "source": [
        "# draw the model(w,b) to check it fits well on dataset\n",
        "plt.scatter(x, y)\n",
        "pt1 = (-0.1, -0.1 * w + b)\n",
        "pt2 = (0.15, 0.15 * 2 + b)\n",
        "plt.plot([pt1[0], pt2[0]], [pt1[1], pt2[1]])\n",
        "plt.xlabel('x')\n",
        "plt.ylabel('y')\n",
        "plt.show()"
      ],
      "execution_count": null,
      "outputs": [
        {
          "output_type": "display_data",
          "data": {
            "image/png": "[encoded data removed]",
            "text/plain": [
              "<Figure size 432x288 with 1 Axes>"
            ]
          },
          "metadata": {
            "tags": [],
            "needs_background": "light"
          }
        }
      ]
    },
    {
      "cell_type": "code",
      "metadata": {
        "colab": {
          "base_uri": "https://localhost:8080/"
        },
        "id": "_yzDzdakwfS1",
        "outputId": "8d745943-22cb-4eae-987e-da954792c656"
      },
      "source": [
        "# repeat 100 epochs\n",
        "for i in range(1,100):\n",
        "  for x_i, y_i in zip(x, y):\n",
        "    y_hat = x_i * w + b\n",
        "    err = y_i - y_hat\n",
        "    w_rate = x_i\n",
        "    w = w + w_rate * err\n",
        "    b = b + 1 * err\n",
        "print(w, b)"
      ],
      "execution_count": null,
      "outputs": [
        {
          "output_type": "stream",
          "text": [
            "913.5973364345905 123.39414383177204\n"
          ],
          "name": "stdout"
        }
      ]
    },
    {
      "cell_type": "code",
      "metadata": {
        "colab": {
          "base_uri": "https://localhost:8080/",
          "height": 279
        },
        "id": "tDQFQzqayHM0",
        "outputId": "348a0512-5eae-460b-f8c1-a1eda85a926d"
      },
      "source": [
        "# draw updated model\n",
        "plt.scatter(x, y)\n",
        "pt1 = (-0.1, -0.1 * w + b)\n",
        "pt2 = (0.15, 0.15 * w + b)\n",
        "plt.plot([pt1[0], pt2[0]], [pt1[1], pt2[1]])\n",
        "plt.xlabel('x')\n",
        "plt.ylabel('y')\n",
        "plt.show()\n",
        "# y_hat = 913.6x + 123.4"
      ],
      "execution_count": null,
      "outputs": [
        {
          "output_type": "display_data",
          "data": {
            "image/png": "[encoded data removed]",
            "text/plain": [
              "<Figure size 432x288 with 1 Axes>"
            ]
          },
          "metadata": {
            "tags": [],
            "needs_background": "light"
          }
        }
      ]
    },
    {
      "cell_type": "code",
      "metadata": {
        "colab": {
          "base_uri": "https://localhost:8080/"
        },
        "id": "P_R94_MKyr_k",
        "outputId": "727b8b98-7a47-4c7f-e619-228f86934de1"
      },
      "source": [
        "# predictation with the model\n",
        "x_new = 0.18\n",
        "y_pred = x_new * w + b\n",
        "print(y_pred)"
      ],
      "execution_count": null,
      "outputs": [
        {
          "output_type": "stream",
          "text": [
            "287.8416643899983\n"
          ],
          "name": "stdout"
        }
      ]
    },
    {
      "cell_type": "code",
      "metadata": {
        "colab": {
          "base_uri": "https://localhost:8080/",
          "height": 279
        },
        "id": "8b42A2d6y92J",
        "outputId": "94204880-a3ad-49bc-d958-97817e03e426"
      },
      "source": [
        "plt.scatter(x,y)\n",
        "plt.scatter(x_new, y_pred)\n",
        "plt.xlabel('x')\n",
        "plt.ylabel('y')\n",
        "plt.show()"
      ],
      "execution_count": null,
      "outputs": [
        {
          "output_type": "display_data",
          "data": {
            "image/png": "[encoded data removed]",
            "text/plain": [
              "<Figure size 432x288 with 1 Axes>"
            ]
          },
          "metadata": {
            "tags": [],
            "needs_background": "light"
          }
        }
      ]
    },
    {
      "cell_type": "markdown",
      "metadata": {
        "id": "wpAJDeQdzllw"
      },
      "source": [
        "03-3.  The correlation between loss function and gradient descent\n",
        "\n",
        "GD: the method to find a point that minimizes the value of loss function\n",
        "\n",
        "Loss func: diff between predicted value and true value\n",
        "\n",
        "SE(squared err) = (y-y hat)^2"
      ]
    },
    {
      "cell_type": "code",
      "metadata": {
        "id": "Z_2r5s-uzFnH"
      },
      "source": [
        "# 가중치에 대해 제곱 오차 미분\n",
        "y_hat = x_i*w + b\n",
        "err = y_i - y_hat\n",
        "w_rate = x_i\n",
        "w = w + w_rate * err # update w"
      ],
      "execution_count": null,
      "outputs": []
    },
    {
      "cell_type": "code",
      "metadata": {
        "id": "jBzyBSEsHwkK"
      },
      "source": [
        "# 절편에 대해 제곱 오차 미분\n",
        "err = y_i - y_hat\n",
        "b = b + 1 * err"
      ],
      "execution_count": null,
      "outputs": []
    },
    {
      "cell_type": "markdown",
      "metadata": {
        "id": "C4KTUwwYIbYC"
      },
      "source": [
        "03-4.  Neuron for linear regression"
      ]
    },
    {
      "cell_type": "code",
      "metadata": {
        "id": "6IzmZmmBIi3S"
      },
      "source": [
        "# Make Neuron Class\n",
        "class Neuron:\n",
        "\n",
        "  def __init__(self):\n",
        "    # initialize weight w and bias b\n",
        "    self.w = 1.0\n",
        "    self.b = 1.0\n",
        "\n",
        "  def forpass(self, x):\n",
        "    # calculate linear equation\n",
        "    y_hat= x*self.w + self.b\n",
        "    return y_hat\n",
        "\n",
        "  def backprop(self, x, err):\n",
        "    # calculate gradient of w, b\n",
        "    w_grad = x*err\n",
        "    b_grad = 1*err\n",
        "    return w_grad, b_grad\n",
        "\n",
        "  # func to update w, b\n",
        "  def fit(self, x, y, epochs=100):\n",
        "    for i in range(epochs):\n",
        "      for x_i, y_i in zip(x, y): # repeat with all samples\n",
        "        y_hat = self.forpass(x_i) # forward\n",
        "        err = -(y_i - y_hat)\n",
        "        w_grad, b_grad = self.backprop(x_i, err) # backpropagation\n",
        "        self.w -= w_grad # update w\n",
        "        self.b -= b_grad # update b"
      ],
      "execution_count": null,
      "outputs": []
    },
    {
      "cell_type": "code",
      "metadata": {
        "id": "B7PPPOBZKs4I"
      },
      "source": [
        "neuron = Neuron()\n",
        "neuron.fit(x, y) # training"
      ],
      "execution_count": null,
      "outputs": []
    },
    {
      "cell_type": "code",
      "metadata": {
        "colab": {
          "base_uri": "https://localhost:8080/",
          "height": 279
        },
        "id": "NPIR6UWSKwJO",
        "outputId": "21955f05-15f1-48c1-8766-77923ba5b548"
      },
      "source": [
        "plt.scatter(x, y)\n",
        "pt1 = (-0.1, -0.1 * neuron.w + neuron.b)\n",
        "pt2 = (0.15, 0.15 * neuron.w + neuron.b)\n",
        "plt.plot([pt1[0], pt2[0]], [pt1[1], pt2[1]])\n",
        "plt.xlabel('x')\n",
        "plt.ylabel('y')\n",
        "plt.show()"
      ],
      "execution_count": null,
      "outputs": [
        {
          "output_type": "display_data",
          "data": {
            "image/png": "[encoded data removed]",
            "text/plain": [
              "<Figure size 432x288 with 1 Axes>"
            ]
          },
          "metadata": {
            "tags": [],
            "needs_background": "light"
          }
        }
      ]
    },
    {
      "cell_type": "markdown",
      "metadata": {
        "id": "6VahHITeXkWI"
      },
      "source": [
        "# **Chapter 4. Binary Classification**\n",
        "- Perceptron: linear function + step function, learns weight from the result of step func\n",
        "- Adaline(Adaptive Linear Neuron): improved model of perceptron, learns weight from the result of linear func\n",
        "- Logistic regression: Adaline + activation func\n",
        "\n",
        "Logistic Loss Function: Cross Entropy\n",
        "Goal: Find weight and bias to minimize logistic loss function's value by differenciation of logistic loss function"
      ]
    },
    {
      "cell_type": "code",
      "metadata": {
        "colab": {
          "base_uri": "https://localhost:8080/"
        },
        "id": "Uq1UtDvILBsN",
        "outputId": "f54abc75-5c21-4791-ec7f-90e34e9cccd1"
      },
      "source": [
        "# 04-4\n",
        "# load Wisconsin breast cancer dataset from scikit learn (Bunch)\n",
        "from sklearn.datasets import load_breast_cancer\n",
        "cancer = load_breast_cancer()\n",
        "\n",
        "# input check (569 samples, 30 featrues)\n",
        "print(cancer.data.shape, cancer.target.shape)"
      ],
      "execution_count": null,
      "outputs": [
        {
          "output_type": "stream",
          "text": [
            "(569, 30) (569,)\n"
          ],
          "name": "stdout"
        }
      ]
    },
    {
      "cell_type": "code",
      "metadata": {
        "colab": {
          "base_uri": "https://localhost:8080/"
        },
        "id": "OlcatTg2Yjva",
        "outputId": "30b4e8fe-0dce-476f-c0c7-6b51789b32c2"
      },
      "source": [
        "cancer.data[:3]"
      ],
      "execution_count": null,
      "outputs": [
        {
          "output_type": "execute_result",
          "data": {
            "text/plain": [
              "array([[1.799e+01, 1.038e+01, 1.228e+02, 1.001e+03, 1.184e-01, 2.776e-01,\n",
              "        3.001e-01, 1.471e-01, 2.419e-01, 7.871e-02, 1.095e+00, 9.053e-01,\n",
              "        8.589e+00, 1.534e+02, 6.399e-03, 4.904e-02, 5.373e-02, 1.587e-02,\n",
              "        3.003e-02, 6.193e-03, 2.538e+01, 1.733e+01, 1.846e+02, 2.019e+03,\n",
              "        1.622e-01, 6.656e-01, 7.119e-01, 2.654e-01, 4.601e-01, 1.189e-01],\n",
              "       [2.057e+01, 1.777e+01, 1.329e+02, 1.326e+03, 8.474e-02, 7.864e-02,\n",
              "        8.690e-02, 7.017e-02, 1.812e-01, 5.667e-02, 5.435e-01, 7.339e-01,\n",
              "        3.398e+00, 7.408e+01, 5.225e-03, 1.308e-02, 1.860e-02, 1.340e-02,\n",
              "        1.389e-02, 3.532e-03, 2.499e+01, 2.341e+01, 1.588e+02, 1.956e+03,\n",
              "        1.238e-01, 1.866e-01, 2.416e-01, 1.860e-01, 2.750e-01, 8.902e-02],\n",
              "       [1.969e+01, 2.125e+01, 1.300e+02, 1.203e+03, 1.096e-01, 1.599e-01,\n",
              "        1.974e-01, 1.279e-01, 2.069e-01, 5.999e-02, 7.456e-01, 7.869e-01,\n",
              "        4.585e+00, 9.403e+01, 6.150e-03, 4.006e-02, 3.832e-02, 2.058e-02,\n",
              "        2.250e-02, 4.571e-03, 2.357e+01, 2.553e+01, 1.525e+02, 1.709e+03,\n",
              "        1.444e-01, 4.245e-01, 4.504e-01, 2.430e-01, 3.613e-01, 8.758e-02]])"
            ]
          },
          "metadata": {
            "tags": []
          },
          "execution_count": 42
        }
      ]
    },
    {
      "cell_type": "code",
      "metadata": {
        "colab": {
          "base_uri": "https://localhost:8080/",
          "height": 279
        },
        "id": "X2VLb3B8YlVi",
        "outputId": "19c23edc-b6eb-42a8-f4d0-d2b6e9e7454d"
      },
      "source": [
        "# draw box plot for checking quartile of each feature\n",
        "plt.boxplot(cancer.data)\n",
        "plt.xlabel('feature')\n",
        "plt.ylabel('value')\n",
        "plt.show()"
      ],
      "execution_count": null,
      "outputs": [
        {
          "output_type": "display_data",
          "data": {
            "image/png": "[encoded data removed]",
            "text/plain": [
              "<Figure size 432x288 with 1 Axes>"
            ]
          },
          "metadata": {
            "tags": [],
            "needs_background": "light"
          }
        }
      ]
    },
    {
      "cell_type": "code",
      "metadata": {
        "colab": {
          "base_uri": "https://localhost:8080/"
        },
        "id": "P9Peuxu4Y0cb",
        "outputId": "9d5b45aa-d523-4135-c23d-5473f759d1bb"
      },
      "source": [
        "cancer.feature_names[[3,13,23]]"
      ],
      "execution_count": null,
      "outputs": [
        {
          "output_type": "execute_result",
          "data": {
            "text/plain": [
              "array(['mean area', 'area error', 'worst area'], dtype='<U23')"
            ]
          },
          "metadata": {
            "tags": []
          },
          "execution_count": 44
        }
      ]
    },
    {
      "cell_type": "code",
      "metadata": {
        "colab": {
          "base_uri": "https://localhost:8080/"
        },
        "id": "t5OP7CUlY3ou",
        "outputId": "906f26b0-b724-412b-fe24-a7e765864d24"
      },
      "source": [
        "np.unique(cancer.target, return_counts=True)"
      ],
      "execution_count": null,
      "outputs": [
        {
          "output_type": "execute_result",
          "data": {
            "text/plain": [
              "(array([0, 1]), array([212, 357]))"
            ]
          },
          "metadata": {
            "tags": []
          },
          "execution_count": 45
        }
      ]
    },
    {
      "cell_type": "code",
      "metadata": {
        "id": "MK_nFp4OY-en"
      },
      "source": [
        "x = cancer.data\n",
        "y = cancer.target"
      ],
      "execution_count": null,
      "outputs": []
    },
    {
      "cell_type": "code",
      "metadata": {
        "id": "c_Gd99jUZAoo"
      },
      "source": [
        "# 04-5. make neuron using logistic regression\n",
        "\n",
        "# divide dataset. training 75% : test 25%\n",
        "from sklearn.model_selection import train_test_split"
      ],
      "execution_count": null,
      "outputs": []
    },
    {
      "cell_type": "code",
      "metadata": {
        "id": "ufDrQpmBZQ1T"
      },
      "source": [
        "x_train, x_test, y_train, y_test = train_test_split(x, y, stratify=y, test_size=0.2, random_state=42)"
      ],
      "execution_count": null,
      "outputs": []
    },
    {
      "cell_type": "code",
      "metadata": {
        "colab": {
          "base_uri": "https://localhost:8080/"
        },
        "id": "gmeBG2r6ZYFX",
        "outputId": "d519b3f1-24f5-4bfc-b0f2-7a0145f278ec"
      },
      "source": [
        "print(x_train.shape, x_test.shape)"
      ],
      "execution_count": null,
      "outputs": [
        {
          "output_type": "stream",
          "text": [
            "(455, 30) (114, 30)\n"
          ],
          "name": "stdout"
        }
      ]
    },
    {
      "cell_type": "code",
      "metadata": {
        "colab": {
          "base_uri": "https://localhost:8080/"
        },
        "id": "4ddR8EKeZatL",
        "outputId": "c70b242a-0bd8-4089-d9c0-573041d3894c"
      },
      "source": [
        "np.unique(y_train, return_counts=True)"
      ],
      "execution_count": null,
      "outputs": [
        {
          "output_type": "execute_result",
          "data": {
            "text/plain": [
              "(array([0, 1]), array([170, 285]))"
            ]
          },
          "metadata": {
            "tags": []
          },
          "execution_count": 50
        }
      ]
    },
    {
      "cell_type": "code",
      "metadata": {
        "id": "N1bFjYxTZdLI"
      },
      "source": [
        "class LogisticNeuron:\n",
        "\n",
        "  def __init__(self):\n",
        "    self.w = None\n",
        "    self.b = None\n",
        "\n",
        "  def forpass(self, x):\n",
        "    # calculate linear equation\n",
        "    z = np.sum(x*self.w) + self.b\n",
        "    return z\n",
        "\n",
        "  def backprop(self, x, err):\n",
        "    w_grad = x*err\n",
        "    b_grad = 1*err\n",
        "    return w_grad, b_grad\n",
        "\n",
        "  def activation(self, z):\n",
        "    z = np.clip(z, -100, None)\n",
        "    a = 1 / (1 + np.exp(-z)) # sigmoid\n",
        "    return a\n",
        "\n",
        "  def fit(self, x, y, epochs=100):\n",
        "    self.w = np.ones(x.shape[1])\n",
        "    self.b = 0\n",
        "    for i in range(epochs):\n",
        "      for x_i, y_i in zip(x, y):\n",
        "        z = self.forpass(x_i)\n",
        "        a = self.activation(z)\n",
        "        err = -(y_i - a)\n",
        "        w_grad, b_grad = self.backprop(x_i, err)\n",
        "        self.w -= w_grad\n",
        "        self.b -= b_grad\n",
        "\n",
        "  def predict(self, x):\n",
        "    z = [self.forpass(x_i) for x_i in x]\n",
        "    a = self.activation(np.array(z))\n",
        "    return a > 0.5"
      ],
      "execution_count": null,
      "outputs": []
    },
    {
      "cell_type": "code",
      "metadata": {
        "colab": {
          "base_uri": "https://localhost:8080/"
        },
        "id": "lJRKRZfka0YX",
        "outputId": "e98d72d2-0178-46d7-e204-fccf6638cff7"
      },
      "source": [
        "neuron = LogisticNeuron()\n",
        "neuron.fit(x_train, y_train)\n",
        "np.mean(neuron.predict(x_test) == y_test)"
      ],
      "execution_count": null,
      "outputs": [
        {
          "output_type": "execute_result",
          "data": {
            "text/plain": [
              "0.8245614035087719"
            ]
          },
          "metadata": {
            "tags": []
          },
          "execution_count": 52
        }
      ]
    },
    {
      "cell_type": "code",
      "metadata": {
        "id": "Bzd2yB5sa69z"
      },
      "source": [
        "# 04-6. simgle layer neural network using logistic regression neuron\n",
        "class SingleLayer:\n",
        "\n",
        "  def __init__(self):\n",
        "    self.w = None\n",
        "    self.b = None\n",
        "    self.losses = []\n",
        "\n",
        "  def forpass(self, x):\n",
        "    z = np.sum(x*self.w) + self.b # calculate linear equation\n",
        "    return z\n",
        "  \n",
        "  def backprop(self, x, err):\n",
        "    w_grad = x*err # gradient of weight\n",
        "    b_grad = 1*err # gradient of intercept\n",
        "    return w_grad, b_grad\n",
        "\n",
        "  def activation(self, z):\n",
        "    z = np.clip(z, -100, None) # for np.ext() calc\n",
        "    a = 1 / (1 + np.exp(-z)) # sigmoid\n",
        "    return a\n",
        "\n",
        " # def add_bias(self, x):\n",
        " #   return np.c_[np.ones((x.shape[0], 1)), x] # add 1 col vector\n",
        "\n",
        "  def fit(self, x, y, epochs=100):\n",
        "    self.w = np.ones(x.shape[1]) # init weight\n",
        "    self.b = 0 # init intercept\n",
        "    for i in range(epochs):\n",
        "      loss = 0\n",
        "      indexes = np.random.permutation(np.arange(len(x))) # random index\n",
        "      for i in indexes:\n",
        "        z = self.forpass(x[i]) # forward\n",
        "        a = self.activation(z)\n",
        "        err = -(y[i]-a) # error\n",
        "        w_grad, b_grad = self.backprop(x[i], err) #backward\n",
        "        self.w -= w_grad # update weight\n",
        "        self.b -= b_grad # update intercept\n",
        "        a = np.clip(a, 1e-10, 1-1e-10) # clipping & accumulate loss (for log calc)\n",
        "        loss += -(y[i]*np.log(a) + (1-y[i])*np.log(1-a)) # save avg loss by every epoch\n",
        "      self.losses.append(loss/len(y))\n",
        "\n",
        "  def predict(self, x):\n",
        "      z = [self.forpass(x_i) for x_i in x] # forward\n",
        "      return np.array(z) > 0 # apply step func\n",
        "\n",
        "  def score(self, x, y):\n",
        "      return np.mean(self.predict(x) == y)"
      ],
      "execution_count": null,
      "outputs": []
    },
    {
      "cell_type": "code",
      "metadata": {
        "colab": {
          "base_uri": "https://localhost:8080/"
        },
        "id": "roDiXUm9dEA0",
        "outputId": "884ff0b4-990a-4414-d4a8-44eb4295f53b"
      },
      "source": [
        "layer = SingleLayer()\n",
        "layer.fit(x_train, y_train)\n",
        "layer.score(x_test, y_test)\n",
        "# z = np.clip(z, -100, None) 추가하니 해결"
      ],
      "execution_count": null,
      "outputs": [
        {
          "output_type": "execute_result",
          "data": {
            "text/plain": [
              "0.9298245614035088"
            ]
          },
          "metadata": {
            "tags": []
          },
          "execution_count": 54
        }
      ]
    },
    {
      "cell_type": "code",
      "metadata": {
        "colab": {
          "base_uri": "https://localhost:8080/",
          "height": 279
        },
        "id": "oCfO0kppdIbz",
        "outputId": "a91e9552-dd07-47d7-cb23-ec8517919d54"
      },
      "source": [
        "# loss check\n",
        "plt.plot(layer.losses)\n",
        "plt.xlabel('epoch')\n",
        "plt.ylabel('loss')\n",
        "plt.show()\n",
        "# loss decreases by epochs"
      ],
      "execution_count": null,
      "outputs": [
        {
          "output_type": "display_data",
          "data": {
            "image/png": "[encoded data removed]",
            "text/plain": [
              "<Figure size 432x288 with 1 Axes>"
            ]
          },
          "metadata": {
            "tags": [],
            "needs_background": "light"
          }
        }
      ]
    },
    {
      "cell_type": "code",
      "metadata": {
        "id": "Mtu4fiOgfb0h"
      },
      "source": [
        "# 04-7. logistic regression using scikit-learn\n",
        "\n",
        "from sklearn.linear_model import SGDClassifier"
      ],
      "execution_count": null,
      "outputs": []
    },
    {
      "cell_type": "code",
      "metadata": {
        "colab": {
          "base_uri": "https://localhost:8080/"
        },
        "id": "GQg-bUBhgZ3i",
        "outputId": "e0c52a65-7488-4b8c-9ee8-a555b7a0893e"
      },
      "source": [
        "# loss func: log, min decrease: tol\n",
        "sgd = SGDClassifier(loss='log', max_iter=100, tol=1e-3, random_state=42)\n",
        "\n",
        "sgd.fit(x_train, y_train)\n",
        "sgd.score(x_test, y_test)"
      ],
      "execution_count": null,
      "outputs": [
        {
          "output_type": "execute_result",
          "data": {
            "text/plain": [
              "0.8333333333333334"
            ]
          },
          "metadata": {
            "tags": []
          },
          "execution_count": 61
        }
      ]
    },
    {
      "cell_type": "code",
      "metadata": {
        "id": "nNDURonOiEOq",
        "colab": {
          "base_uri": "https://localhost:8080/"
        },
        "outputId": "7ff62572-f5e7-4892-bb2f-7491f5be32b8"
      },
      "source": [
        "sgd.predict(x_test[0:10])"
      ],
      "execution_count": null,
      "outputs": [
        {
          "output_type": "execute_result",
          "data": {
            "text/plain": [
              "array([0, 1, 0, 0, 0, 0, 1, 0, 0, 0])"
            ]
          },
          "metadata": {
            "tags": []
          },
          "execution_count": 62
        }
      ]
    }
  ]
}