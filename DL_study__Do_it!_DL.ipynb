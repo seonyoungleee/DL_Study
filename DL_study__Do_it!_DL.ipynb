{
  "nbformat": 4,
  "nbformat_minor": 0,
  "metadata": {
    "colab": {
      "name": "DL study_ Do it! DL",
      "provenance": [],
      "collapsed_sections": [],
      "authorship_tag": "ABX9TyPZBvGSFVx0Lzocqc6toZat",
      "include_colab_link": true
    },
    "kernelspec": {
      "name": "python3",
      "display_name": "Python 3"
    }
  },
  "cells": [
    {
      "cell_type": "markdown",
      "metadata": {
        "id": "view-in-github",
        "colab_type": "text"
      },
      "source": [
        "<a href=\"https://colab.research.google.com/github/seonyoungleee/DL_Study/blob/main/DL_study__Do_it!_DL.ipynb\" target=\"_parent\"><img src=\"https://colab.research.google.com/assets/colab-badge.svg\" alt=\"Open In Colab\"/></a>"
      ]
    },
    {
      "cell_type": "markdown",
      "metadata": {
        "id": "fDcfqmpPRdYa"
      },
      "source": [
        "Study material: Do it! Deep learning 입문"
      ]
    },
    {
      "cell_type": "markdown",
      "metadata": {
        "id": "XfxUInHFVZgh"
      },
      "source": [
        "Chapter 2.\n",
        "Goal: Run simple functions in numpy, matplotlib in colab environment"
      ]
    },
    {
      "cell_type": "markdown",
      "metadata": {
        "id": "PWxBPqfGSNWI"
      },
      "source": [
        "1D(1x3), 2D(2x3) list"
      ]
    },
    {
      "cell_type": "code",
      "metadata": {
        "colab": {
          "base_uri": "https://localhost:8080/"
        },
        "id": "nSr4yDN6Rh9b",
        "outputId": "c192bc49-ef30-47cf-cc73-6bc42f39c6e2"
      },
      "source": [
        "my_list = [10, 'hello lost', 20]\n",
        "print(my_list[1])"
      ],
      "execution_count": 2,
      "outputs": [
        {
          "output_type": "stream",
          "text": [
            "hello lost\n"
          ],
          "name": "stdout"
        }
      ]
    },
    {
      "cell_type": "code",
      "metadata": {
        "id": "49zrLz44Sb3Y"
      },
      "source": [
        "my_list_2 = [[10,20,30],[40,50,60]]"
      ],
      "execution_count": 3,
      "outputs": []
    },
    {
      "cell_type": "code",
      "metadata": {
        "colab": {
          "base_uri": "https://localhost:8080/"
        },
        "id": "_qbmdPmxS3B7",
        "outputId": "71b49453-db31-4bd9-90c9-3497e9385fe3"
      },
      "source": [
        "print(my_list_2[1][1])"
      ],
      "execution_count": 4,
      "outputs": [
        {
          "output_type": "stream",
          "text": [
            "50\n"
          ],
          "name": "stdout"
        }
      ]
    },
    {
      "cell_type": "markdown",
      "metadata": {
        "id": "N1mLtARjS8La"
      },
      "source": [
        "numpy import & check ver."
      ]
    },
    {
      "cell_type": "code",
      "metadata": {
        "colab": {
          "base_uri": "https://localhost:8080/"
        },
        "id": "J4dVgj0hS_CF",
        "outputId": "8447d701-4405-426f-b385-3766d5e34fe4"
      },
      "source": [
        "import numpy as np\n",
        "print(np.__version__)"
      ],
      "execution_count": 5,
      "outputs": [
        {
          "output_type": "stream",
          "text": [
            "1.19.5\n"
          ],
          "name": "stdout"
        }
      ]
    },
    {
      "cell_type": "markdown",
      "metadata": {
        "id": "J-dyz-NHTIVB"
      },
      "source": [
        "2D array using array()"
      ]
    },
    {
      "cell_type": "code",
      "metadata": {
        "colab": {
          "base_uri": "https://localhost:8080/"
        },
        "id": "RgcrwZZITOLz",
        "outputId": "ac43be0b-735d-4c16-bc36-6b32c75cf1e2"
      },
      "source": [
        "my_arr = np.array([[10,20,30],[40,50,60]])\n",
        "print(my_arr)"
      ],
      "execution_count": 6,
      "outputs": [
        {
          "output_type": "stream",
          "text": [
            "[[10 20 30]\n",
            " [40 50 60]]\n"
          ],
          "name": "stdout"
        }
      ]
    },
    {
      "cell_type": "markdown",
      "metadata": {
        "id": "1JuHbzlzTWRS"
      },
      "source": [
        "check np array using type(): \n",
        "the last line of the code cell prints the result without print()"
      ]
    },
    {
      "cell_type": "code",
      "metadata": {
        "colab": {
          "base_uri": "https://localhost:8080/"
        },
        "id": "qTui3d2nTaVj",
        "outputId": "5a2b909d-1f03-4fbf-8167-0dc5fdd232ad"
      },
      "source": [
        "type(my_arr)"
      ],
      "execution_count": 7,
      "outputs": [
        {
          "output_type": "execute_result",
          "data": {
            "text/plain": [
              "numpy.ndarray"
            ]
          },
          "metadata": {
            "tags": []
          },
          "execution_count": 7
        }
      ]
    },
    {
      "cell_type": "markdown",
      "metadata": {
        "id": "uSjySEn2Tt0k"
      },
      "source": [
        "element in numpy array"
      ]
    },
    {
      "cell_type": "code",
      "metadata": {
        "colab": {
          "base_uri": "https://localhost:8080/"
        },
        "id": "jpd_m6T3TwY1",
        "outputId": "2a74b144-9e59-43bd-c6d6-93d36a30968e"
      },
      "source": [
        "my_arr[0][2]"
      ],
      "execution_count": 8,
      "outputs": [
        {
          "output_type": "execute_result",
          "data": {
            "text/plain": [
              "30"
            ]
          },
          "metadata": {
            "tags": []
          },
          "execution_count": 8
        }
      ]
    },
    {
      "cell_type": "markdown",
      "metadata": {
        "id": "O1GLL0h0TzUM"
      },
      "source": [
        "numpy built-in function (faster than 'for statement')"
      ]
    },
    {
      "cell_type": "code",
      "metadata": {
        "colab": {
          "base_uri": "https://localhost:8080/"
        },
        "id": "d8vKI8CST68w",
        "outputId": "6e3e31af-fa9d-42fc-eefe-ab18c8dbe462"
      },
      "source": [
        "np.sum(my_arr)"
      ],
      "execution_count": 9,
      "outputs": [
        {
          "output_type": "execute_result",
          "data": {
            "text/plain": [
              "210"
            ]
          },
          "metadata": {
            "tags": []
          },
          "execution_count": 9
        }
      ]
    },
    {
      "cell_type": "markdown",
      "metadata": {
        "id": "VL8q7sIaUJWH"
      },
      "source": [
        "draw graph using matplotlib"
      ]
    },
    {
      "cell_type": "code",
      "metadata": {
        "id": "9PpTB-djUMsL"
      },
      "source": [
        "import matplotlib.pyplot as plt"
      ],
      "execution_count": 10,
      "outputs": []
    },
    {
      "cell_type": "markdown",
      "metadata": {
        "id": "rOVhjw7WUUBS"
      },
      "source": [
        "draw line plot"
      ]
    },
    {
      "cell_type": "code",
      "metadata": {
        "colab": {
          "base_uri": "https://localhost:8080/",
          "height": 265
        },
        "id": "S3KgvJMiUQzC",
        "outputId": "b20d2a8a-7ebf-40c0-d5be-872264042df4"
      },
      "source": [
        "plt.plot([1,2,3,4,5],[1,4,9,16,25])\n",
        "plt.show()"
      ],
      "execution_count": 11,
      "outputs": [
        {
          "output_type": "display_data",
          "data": {
            "image/png": "[encoded data removed]",
            "text/plain": [
              "<Figure size 432x288 with 1 Axes>"
            ]
          },
          "metadata": {
            "tags": [],
            "needs_background": "light"
          }
        }
      ]
    },
    {
      "cell_type": "markdown",
      "metadata": {
        "id": "e7_mwDz5UWf1"
      },
      "source": [
        "draw scatter plot"
      ]
    },
    {
      "cell_type": "code",
      "metadata": {
        "colab": {
          "base_uri": "https://localhost:8080/",
          "height": 265
        },
        "id": "Rq3OXepDUevF",
        "outputId": "92569aae-db51-4b61-89f9-62c6e2f8a3e5"
      },
      "source": [
        "plt.scatter([1,2,3,4,5],[1,4,9,16,25])\n",
        "plt.show()"
      ],
      "execution_count": 12,
      "outputs": [
        {
          "output_type": "display_data",
          "data": {
            "image/png": "[encoded data removed]",
            "text/plain": [
              "<Figure size 432x288 with 1 Axes>"
            ]
          },
          "metadata": {
            "tags": [],
            "needs_background": "light"
          }
        }
      ]
    },
    {
      "cell_type": "markdown",
      "metadata": {
        "id": "WZz8I2IhUmaV"
      },
      "source": [
        "draw scatter plot with numpy array"
      ]
    },
    {
      "cell_type": "code",
      "metadata": {
        "colab": {
          "base_uri": "https://localhost:8080/",
          "height": 265
        },
        "id": "HMrtTaOLUkRr",
        "outputId": "1aea1939-b268-4198-dc0b-79cab9232a4a"
      },
      "source": [
        "x = np.random.randn(1000) # 표준 정규 분포를 따르는 난수 1000개 생성\n",
        "y = np.random.randn(1000) # 표준 정규 분포를 따르는 난수 1000개 생성\n",
        "plt.scatter(x, y)\n",
        "plt.show()"
      ],
      "execution_count": 13,
      "outputs": [
        {
          "output_type": "display_data",
          "data": {
            "image/png": "[encoded data removed]",
            "text/plain": [
              "<Figure size 432x288 with 1 Axes>"
            ]
          },
          "metadata": {
            "tags": [],
            "needs_background": "light"
          }
        }
      ]
    },
    {
      "cell_type": "markdown",
      "metadata": {
        "id": "_8bnrq3MVSkO"
      },
      "source": [
        ""
      ]
    },
    {
      "cell_type": "markdown",
      "metadata": {
        "id": "LhGpsQKeV_wT"
      },
      "source": [
        "Chapter 3. Goal: Run linear regression, GD (Gradient descent), loss function"
      ]
    },
    {
      "cell_type": "markdown",
      "metadata": {
        "id": "BhE7O6e4Wi2P"
      },
      "source": [
        "Goal of linear regression: To find slope a and intercept b\n",
        "\n",
        "y=ax+b"
      ]
    },
    {
      "cell_type": "markdown",
      "metadata": {
        "id": "MvHb2pPBcUaR"
      },
      "source": [
        "example: diabetes datasets from sklearn\n",
        "\n",
        "type of the data diabetes: Bunch class (like python dictionary)\n",
        "\n",
        "input: data(442x10), output: target(442x1)"
      ]
    },
    {
      "cell_type": "code",
      "metadata": {
        "id": "r0kVcPRaU4I9"
      },
      "source": [
        "from sklearn.datasets import load_diabetes\n",
        "diabetes = load_diabetes()"
      ],
      "execution_count": 14,
      "outputs": []
    },
    {
      "cell_type": "code",
      "metadata": {
        "colab": {
          "base_uri": "https://localhost:8080/"
        },
        "id": "JtsJLdn_dJPs",
        "outputId": "a404fe9f-37f8-481c-883c-cbca54626e82"
      },
      "source": [
        "print(diabetes.data.shape, diabetes.target.shape)"
      ],
      "execution_count": 15,
      "outputs": [
        {
          "output_type": "stream",
          "text": [
            "(442, 10) (442,)\n"
          ],
          "name": "stdout"
        }
      ]
    },
    {
      "cell_type": "code",
      "metadata": {
        "colab": {
          "base_uri": "https://localhost:8080/"
        },
        "id": "NVFWJsPIdw7T",
        "outputId": "a928172c-aa15-47ef-a86e-ac4ffc0ec608"
      },
      "source": [
        "diabetes.data[0:3] # 3data * 10features"
      ],
      "execution_count": 16,
      "outputs": [
        {
          "output_type": "execute_result",
          "data": {
            "text/plain": [
              "array([[ 0.03807591,  0.05068012,  0.06169621,  0.02187235, -0.0442235 ,\n",
              "        -0.03482076, -0.04340085, -0.00259226,  0.01990842, -0.01764613],\n",
              "       [-0.00188202, -0.04464164, -0.05147406, -0.02632783, -0.00844872,\n",
              "        -0.01916334,  0.07441156, -0.03949338, -0.06832974, -0.09220405],\n",
              "       [ 0.08529891,  0.05068012,  0.04445121, -0.00567061, -0.04559945,\n",
              "        -0.03419447, -0.03235593, -0.00259226,  0.00286377, -0.02593034]])"
            ]
          },
          "metadata": {
            "tags": []
          },
          "execution_count": 16
        }
      ]
    },
    {
      "cell_type": "code",
      "metadata": {
        "colab": {
          "base_uri": "https://localhost:8080/"
        },
        "id": "-uI4DNU4eJ3c",
        "outputId": "5b7154f7-3730-451b-9da5-0775b322d82d"
      },
      "source": [
        "diabetes.target[:3] # targets of 3 data"
      ],
      "execution_count": 17,
      "outputs": [
        {
          "output_type": "execute_result",
          "data": {
            "text/plain": [
              "array([151.,  75., 141.])"
            ]
          },
          "metadata": {
            "tags": []
          },
          "execution_count": 17
        }
      ]
    },
    {
      "cell_type": "markdown",
      "metadata": {
        "id": "nN5LW4zMeasS"
      },
      "source": [
        "visualization using matplotlib of the data of diabetes\n",
        "\n",
        "(with 2 features to draw in 2D space)"
      ]
    },
    {
      "cell_type": "code",
      "metadata": {
        "colab": {
          "base_uri": "https://localhost:8080/",
          "height": 279
        },
        "id": "Zan6czbueirH",
        "outputId": "c3ee1561-d1dd-4182-9ce6-b5d162e848a9"
      },
      "source": [
        "import matplotlib.pyplot as plt\n",
        "plt.scatter(diabetes.data[:,2], diabetes.target) # x: first, second features of all patients. y: targets of all patients.\n",
        "plt.xlabel('x')\n",
        "plt.ylabel('y')\n",
        "plt.show()"
      ],
      "execution_count": 18,
      "outputs": [
        {
          "output_type": "display_data",
          "data": {
            "image/png": "[encoded data removed]",
            "text/plain": [
              "<Figure size 432x288 with 1 Axes>"
            ]
          },
          "metadata": {
            "tags": [],
            "needs_background": "light"
          }
        }
      ]
    },
    {
      "cell_type": "markdown",
      "metadata": {
        "id": "lJ8cbLYRfLn5"
      },
      "source": [
        "preparation of the training data"
      ]
    },
    {
      "cell_type": "code",
      "metadata": {
        "id": "4WwHM8iyfGrN"
      },
      "source": [
        "x = diabetes.data[:,2]\n",
        "y = diabetes.target"
      ],
      "execution_count": 19,
      "outputs": []
    },
    {
      "cell_type": "markdown",
      "metadata": {
        "id": "PXnqZ7_Bm_Vj"
      },
      "source": [
        "example: find w, b\n",
        "\n",
        "1) set random w, b\n",
        "\n",
        "2) calculate y hat from random sample from x\n",
        "\n",
        "3) compare y hat and y\n",
        "\n",
        "4) update w, b\n",
        "\n",
        "5) repeat 2-4 using all samples"
      ]
    },
    {
      "cell_type": "code",
      "metadata": {
        "id": "Kn5tUUfApsd3"
      },
      "source": [
        "w = 1.0\n",
        "b = 1.0"
      ],
      "execution_count": 20,
      "outputs": []
    },
    {
      "cell_type": "code",
      "metadata": {
        "colab": {
          "base_uri": "https://localhost:8080/"
        },
        "id": "JppmzsQBqKjP",
        "outputId": "bb7a53a4-93ef-40eb-b2a4-1494ceb2ac57"
      },
      "source": [
        "y_hat = x[0]*w + b\n",
        "print(y_hat) # target y: 151"
      ],
      "execution_count": 21,
      "outputs": [
        {
          "output_type": "stream",
          "text": [
            "1.0616962065186886\n"
          ],
          "name": "stdout"
        }
      ]
    },
    {
      "cell_type": "code",
      "metadata": {
        "colab": {
          "base_uri": "https://localhost:8080/"
        },
        "id": "6lz_RdJTqQE-",
        "outputId": "d4a36f0b-c71e-48cf-b3a6-ac3ca1020f2c"
      },
      "source": [
        "print(y[0])"
      ],
      "execution_count": 22,
      "outputs": [
        {
          "output_type": "stream",
          "text": [
            "151.0\n"
          ],
          "name": "stdout"
        }
      ]
    },
    {
      "cell_type": "code",
      "metadata": {
        "colab": {
          "base_uri": "https://localhost:8080/"
        },
        "id": "l9uf5smxqTi1",
        "outputId": "5db2c901-f946-4c7a-f054-977b83d2d07f"
      },
      "source": [
        "# update y_hat by changing w value\n",
        "w_inc = w + 0.1\n",
        "y_hat_inc = x[0] * w_inc + b\n",
        "print(y_hat_inc)"
      ],
      "execution_count": 23,
      "outputs": [
        {
          "output_type": "stream",
          "text": [
            "1.0678658271705574\n"
          ],
          "name": "stdout"
        }
      ]
    },
    {
      "cell_type": "code",
      "metadata": {
        "colab": {
          "base_uri": "https://localhost:8080/"
        },
        "id": "dq33KV8fquix",
        "outputId": "1bf27dc2-1c7e-4539-ec53-cac28690f7c8"
      },
      "source": [
        "# update w (dy_hat / dw)\n",
        "w_rate = (y_hat_inc - y_hat) / (w_inc - w)\n",
        "print(w_rate)\n",
        "# w_rate: w rate about x[0]"
      ],
      "execution_count": 24,
      "outputs": [
        {
          "output_type": "stream",
          "text": [
            "0.061696206518688734\n"
          ],
          "name": "stdout"
        }
      ]
    },
    {
      "cell_type": "markdown",
      "metadata": {
        "id": "Gm0rAuNhrymh"
      },
      "source": [
        "update w using w_rate"
      ]
    },
    {
      "cell_type": "code",
      "metadata": {
        "colab": {
          "base_uri": "https://localhost:8080/"
        },
        "id": "bmf02EF9rZ-i",
        "outputId": "60548a38-0d96-4840-9ac9-e52cf47f3b80"
      },
      "source": [
        "w_new = w + w_rate\n",
        "print(w_new)"
      ],
      "execution_count": 25,
      "outputs": [
        {
          "output_type": "stream",
          "text": [
            "1.0616962065186888\n"
          ],
          "name": "stdout"
        }
      ]
    },
    {
      "cell_type": "markdown",
      "metadata": {
        "id": "ULo4g4Kds4k3"
      },
      "source": [
        "update b using b_rate"
      ]
    },
    {
      "cell_type": "code",
      "metadata": {
        "colab": {
          "base_uri": "https://localhost:8080/"
        },
        "id": "oMTaAUctsxmb",
        "outputId": "c4c99024-fc84-4f7f-9c7a-ff807027724c"
      },
      "source": [
        "b_inc = b + 0.1\n",
        "y_hat_inc = x[0] * w + b_inc\n",
        "print(y_hat_inc)"
      ],
      "execution_count": 26,
      "outputs": [
        {
          "output_type": "stream",
          "text": [
            "1.1616962065186887\n"
          ],
          "name": "stdout"
        }
      ]
    },
    {
      "cell_type": "code",
      "metadata": {
        "colab": {
          "base_uri": "https://localhost:8080/"
        },
        "id": "9NedCDRVtAOC",
        "outputId": "cfc35219-812a-468b-f5a7-1e25fe61da1e"
      },
      "source": [
        "b_rate = (y_hat_inc - y_hat) / (b_inc - b)\n",
        "print(b_rate)"
      ],
      "execution_count": 27,
      "outputs": [
        {
          "output_type": "stream",
          "text": [
            "1.0\n"
          ],
          "name": "stdout"
        }
      ]
    },
    {
      "cell_type": "code",
      "metadata": {
        "colab": {
          "base_uri": "https://localhost:8080/"
        },
        "id": "Is08LNeQtFha",
        "outputId": "46f733b6-3b97-4ffa-afde-4ea52eef13f1"
      },
      "source": [
        "b_new = b + 1\n",
        "print(b_new)"
      ],
      "execution_count": 28,
      "outputs": [
        {
          "output_type": "stream",
          "text": [
            "2.0\n"
          ],
          "name": "stdout"
        }
      ]
    },
    {
      "cell_type": "markdown",
      "metadata": {
        "id": "bJEldo9TtTnu"
      },
      "source": [
        "disadvantages of above method:\n",
        "\n",
        "1) if y_hat is too small than y, hard to update w and b value with large scale\n",
        "\n",
        "2) if y_hat is bigger than y, cannot decrease y_hat\n",
        "\n",
        "==> Backpropagation is the solution!"
      ]
    },
    {
      "cell_type": "markdown",
      "metadata": {
        "id": "-uVOF1oZuH8j"
      },
      "source": [
        "[Backpropagation]\n",
        "by multiplying w_rate by (y hat - y),\n",
        "\n",
        "1) can update w,b effectively when y_hat is too small than y\n",
        "\n",
        "2) can update the direction of w, b when y_hat value oversteps y"
      ]
    },
    {
      "cell_type": "code",
      "metadata": {
        "colab": {
          "base_uri": "https://localhost:8080/"
        },
        "id": "sSRjkjqXtN65",
        "outputId": "331f9b11-00ea-4a24-ecce-3ab405646851"
      },
      "source": [
        "# update w with err * rate\n",
        "# x[0]\n",
        "err = y[0] - y_hat\n",
        "w_new = w + w_rate * err\n",
        "b_new = b + 1 * err\n",
        "print(w_new, b_new)"
      ],
      "execution_count": 29,
      "outputs": [
        {
          "output_type": "stream",
          "text": [
            "10.250624555904514 150.9383037934813\n"
          ],
          "name": "stdout"
        }
      ]
    },
    {
      "cell_type": "code",
      "metadata": {
        "colab": {
          "base_uri": "https://localhost:8080/"
        },
        "id": "y4XHk0upvMS6",
        "outputId": "2b6d075e-1d18-44a1-edef-41a9106ea047"
      },
      "source": [
        "# w_rate = x[1]\n",
        "y_hat = x[1] * w_new + b_new\n",
        "err = y[1] - y_hat\n",
        "w_rate = x[1]\n",
        "w_new = w_new + w_rate * err\n",
        "b_new = b_new + 1 * err\n",
        "print(w_new, b_new)"
      ],
      "execution_count": 30,
      "outputs": [
        {
          "output_type": "stream",
          "text": [
            "14.132317616381767 75.52764127612664\n"
          ],
          "name": "stdout"
        }
      ]
    },
    {
      "cell_type": "code",
      "metadata": {
        "colab": {
          "base_uri": "https://localhost:8080/"
        },
        "id": "PDXN_PR0vosZ",
        "outputId": "86a6e5e9-ba61-4507-ff82-a6d439df7d37"
      },
      "source": [
        "# repeat using all sample\n",
        "for x_i, y_i in zip(x,y): # zip(): gets each element from multi array\n",
        "  y_hat = x_i * w + b\n",
        "  err = y_i - y_hat\n",
        "  w_rate = x_i\n",
        "  w = w + w_rate * err\n",
        "  b = b + 1 * err\n",
        "print(w,b)"
      ],
      "execution_count": 31,
      "outputs": [
        {
          "output_type": "stream",
          "text": [
            "587.8654539985689 99.40935564531424\n"
          ],
          "name": "stdout"
        }
      ]
    },
    {
      "cell_type": "code",
      "metadata": {
        "colab": {
          "base_uri": "https://localhost:8080/",
          "height": 279
        },
        "id": "DRVbwmr_wMgy",
        "outputId": "aeac28e4-22fe-4ede-f3ab-5869a88ee095"
      },
      "source": [
        "# draw the model(w,b) to check it fits well on dataset\n",
        "plt.scatter(x, y)\n",
        "pt1 = (-0.1, -0.1 * w + b)\n",
        "pt2 = (0.15, 0.15 * 2 + b)\n",
        "plt.plot([pt1[0], pt2[0]], [pt1[1], pt2[1]])\n",
        "plt.xlabel('x')\n",
        "plt.ylabel('y')\n",
        "plt.show()"
      ],
      "execution_count": 32,
      "outputs": [
        {
          "output_type": "display_data",
          "data": {
            "image/png": "[encoded data removed]",
            "text/plain": [
              "<Figure size 432x288 with 1 Axes>"
            ]
          },
          "metadata": {
            "tags": [],
            "needs_background": "light"
          }
        }
      ]
    },
    {
      "cell_type": "code",
      "metadata": {
        "colab": {
          "base_uri": "https://localhost:8080/"
        },
        "id": "_yzDzdakwfS1",
        "outputId": "1a58949c-a1be-456f-bfb9-e514296789e6"
      },
      "source": [
        "# repeat 100 epochs\n",
        "for i in range(1,100):\n",
        "  for x_i, y_i in zip(x, y):\n",
        "    y_hat = x_i * w + b\n",
        "    err = y_i - y_hat\n",
        "    w_rate = x_i\n",
        "    w = w + w_rate * err\n",
        "    b = b + 1 * err\n",
        "print(w, b)"
      ],
      "execution_count": 33,
      "outputs": [
        {
          "output_type": "stream",
          "text": [
            "913.5973364345905 123.39414383177204\n"
          ],
          "name": "stdout"
        }
      ]
    },
    {
      "cell_type": "code",
      "metadata": {
        "colab": {
          "base_uri": "https://localhost:8080/",
          "height": 279
        },
        "id": "tDQFQzqayHM0",
        "outputId": "7274aacb-0696-43ee-8104-99760baa3d4a"
      },
      "source": [
        "# draw updated model\n",
        "plt.scatter(x, y)\n",
        "pt1 = (-0.1, -0.1 * w + b)\n",
        "pt2 = (0.15, 0.15 * w + b)\n",
        "plt.plot([pt1[0], pt2[0]], [pt1[1], pt2[1]])\n",
        "plt.xlabel('x')\n",
        "plt.ylabel('y')\n",
        "plt.show()\n",
        "# y_hat = 913.6x + 123.4"
      ],
      "execution_count": 34,
      "outputs": [
        {
          "output_type": "display_data",
          "data": {
            "image/png": "[encoded data removed]",
            "text/plain": [
              "<Figure size 432x288 with 1 Axes>"
            ]
          },
          "metadata": {
            "tags": [],
            "needs_background": "light"
          }
        }
      ]
    },
    {
      "cell_type": "code",
      "metadata": {
        "colab": {
          "base_uri": "https://localhost:8080/"
        },
        "id": "P_R94_MKyr_k",
        "outputId": "b915d5ef-bcc1-4cf7-87ed-79530afb85c9"
      },
      "source": [
        "# predictation with the model\n",
        "x_new = 0.18\n",
        "y_pred = x_new * w + b\n",
        "print(y_pred)"
      ],
      "execution_count": 35,
      "outputs": [
        {
          "output_type": "stream",
          "text": [
            "287.8416643899983\n"
          ],
          "name": "stdout"
        }
      ]
    },
    {
      "cell_type": "code",
      "metadata": {
        "colab": {
          "base_uri": "https://localhost:8080/",
          "height": 279
        },
        "id": "8b42A2d6y92J",
        "outputId": "ec7461ce-bb59-47ce-b10d-e67d1016e86e"
      },
      "source": [
        "plt.scatter(x,y)\n",
        "plt.scatter(x_new, y_pred)\n",
        "plt.xlabel('x')\n",
        "plt.ylabel('y')\n",
        "plt.show()"
      ],
      "execution_count": 36,
      "outputs": [
        {
          "output_type": "display_data",
          "data": {
            "image/png": "[encoded data removed]",
            "text/plain": [
              "<Figure size 432x288 with 1 Axes>"
            ]
          },
          "metadata": {
            "tags": [],
            "needs_background": "light"
          }
        }
      ]
    },
    {
      "cell_type": "markdown",
      "metadata": {
        "id": "wpAJDeQdzllw"
      },
      "source": [
        "03-3.  The correlation between loss function and gradient descent\r\n",
        "\r\n",
        "GD: the method to find a point that minimizes the value of loss function\r\n",
        "\r\n",
        "Loss func: diff between predicted value and true value\r\n",
        "\r\n",
        "SE(squared err) = (y-y hat)^2"
      ]
    },
    {
      "cell_type": "code",
      "metadata": {
        "id": "Z_2r5s-uzFnH"
      },
      "source": [
        "# 가중치에 대해 제곱 오차 미분\r\n",
        "y_hat = x_i*w + b\r\n",
        "err = y_i - y_hat\r\n",
        "w_rate = x_i\r\n",
        "w = w + w_rate * err # update w"
      ],
      "execution_count": 38,
      "outputs": []
    },
    {
      "cell_type": "code",
      "metadata": {
        "id": "jBzyBSEsHwkK"
      },
      "source": [
        "# 절편에 대해 제곱 오차 미분\r\n",
        "err = y_i - y_hat\r\n",
        "b = b + 1 * err"
      ],
      "execution_count": 40,
      "outputs": []
    },
    {
      "cell_type": "markdown",
      "metadata": {
        "id": "C4KTUwwYIbYC"
      },
      "source": [
        "03-4.  Neuron for linear regression"
      ]
    },
    {
      "cell_type": "code",
      "metadata": {
        "id": "6IzmZmmBIi3S"
      },
      "source": [
        "# Make Neuron Class\r\n",
        "class Neuron:\r\n",
        "\r\n",
        "  def __init__(self):\r\n",
        "    # initialize weight w and bias b\r\n",
        "    self.w = 1.0\r\n",
        "    self.b = 1.0\r\n",
        "\r\n",
        "  def forpass(self, x):\r\n",
        "    # calculate linear equation\r\n",
        "    y_hat= x*self.w + self.b\r\n",
        "    return y_hat\r\n",
        "\r\n",
        "  def backprop(self, x, err):\r\n",
        "    # calculate gradient of w, b\r\n",
        "    w_grad = x*err\r\n",
        "    b_grad = 1*err\r\n",
        "    return w_grad, b_grad\r\n",
        "\r\n",
        "  # func to update w, b\r\n",
        "  def fit(self, x, y, epochs=100):\r\n",
        "    for i in range(epochs):\r\n",
        "      for x_i, y_i in zip(x, y): # repeat with all samples\r\n",
        "        y_hat = self.forpass(x_i) # forward\r\n",
        "        err = -(y_i - y_hat)\r\n",
        "        w_grad, b_grad = self.backprop(x_i, err) # backpropagation\r\n",
        "        self.w -= w_grad # update w\r\n",
        "        self.b -= b_grad # update b"
      ],
      "execution_count": 41,
      "outputs": []
    },
    {
      "cell_type": "code",
      "metadata": {
        "id": "B7PPPOBZKs4I"
      },
      "source": [
        "neuron = Neuron()\r\n",
        "neuron.fit(x, y) # training"
      ],
      "execution_count": 42,
      "outputs": []
    },
    {
      "cell_type": "code",
      "metadata": {
        "colab": {
          "base_uri": "https://localhost:8080/",
          "height": 279
        },
        "id": "NPIR6UWSKwJO",
        "outputId": "5e230fcd-c1da-479e-f759-cf4793e39fcb"
      },
      "source": [
        "plt.scatter(x, y)\r\n",
        "pt1 = (-0.1, -0.1 * neuron.w + neuron.b)\r\n",
        "pt2 = (0.15, 0.15 * neuron.w + neuron.b)\r\n",
        "plt.plot([pt1[0], pt2[0]], [pt1[1], pt2[1]])\r\n",
        "plt.xlabel('x')\r\n",
        "plt.ylabel('y')\r\n",
        "plt.show()"
      ],
      "execution_count": 44,
      "outputs": [
        {
          "output_type": "display_data",
          "data": {
            "image/png": "[encoded data removed]",
            "text/plain": [
              "<Figure size 432x288 with 1 Axes>"
            ]
          },
          "metadata": {
            "tags": [],
            "needs_background": "light"
          }
        }
      ]
    },
    {
      "cell_type": "markdown",
      "metadata": {
        "id": "6VahHITeXkWI"
      },
      "source": [
        "Chapter 4. Binary Classification\r\n",
        "- Perceptron: linear function + step function, learns weight from the result of step func\r\n",
        "- Adaline(Adaptive Linear Neuron): improved model of perceptron, learns weight from the result of linear func\r\n",
        "- Logistic regression: Adaline + activation func\r\n",
        "\r\n",
        "Logistic Loss Function: Cross Entropy\r\n",
        "Goal: Find weight and bias to minimize logistic loss function's value by differenciation of logistic loss function"
      ]
    },
    {
      "cell_type": "code",
      "metadata": {
        "colab": {
          "base_uri": "https://localhost:8080/"
        },
        "id": "Uq1UtDvILBsN",
        "outputId": "8e39d68c-123e-4d48-c6fb-b5b70cbf7281"
      },
      "source": [
        "# 04-4\r\n",
        "# load Wisconsin breast cancer dataset from scikit learn (Bunch)\r\n",
        "from sklearn.datasets import load_breast_cancer\r\n",
        "cancer = load_breast_cancer()\r\n",
        "\r\n",
        "# input check (569 samples, 30 featrues)\r\n",
        "print(cancer.data.shape, cancer.target.shape)"
      ],
      "execution_count": 45,
      "outputs": [
        {
          "output_type": "stream",
          "text": [
            "(569, 30) (569,)\n"
          ],
          "name": "stdout"
        }
      ]
    },
    {
      "cell_type": "code",
      "metadata": {
        "colab": {
          "base_uri": "https://localhost:8080/"
        },
        "id": "OlcatTg2Yjva",
        "outputId": "23c67b99-5f66-412f-9517-644a8bf8e4ae"
      },
      "source": [
        "cancer.data[:3]"
      ],
      "execution_count": 46,
      "outputs": [
        {
          "output_type": "execute_result",
          "data": {
            "text/plain": [
              "array([[1.799e+01, 1.038e+01, 1.228e+02, 1.001e+03, 1.184e-01, 2.776e-01,\n",
              "        3.001e-01, 1.471e-01, 2.419e-01, 7.871e-02, 1.095e+00, 9.053e-01,\n",
              "        8.589e+00, 1.534e+02, 6.399e-03, 4.904e-02, 5.373e-02, 1.587e-02,\n",
              "        3.003e-02, 6.193e-03, 2.538e+01, 1.733e+01, 1.846e+02, 2.019e+03,\n",
              "        1.622e-01, 6.656e-01, 7.119e-01, 2.654e-01, 4.601e-01, 1.189e-01],\n",
              "       [2.057e+01, 1.777e+01, 1.329e+02, 1.326e+03, 8.474e-02, 7.864e-02,\n",
              "        8.690e-02, 7.017e-02, 1.812e-01, 5.667e-02, 5.435e-01, 7.339e-01,\n",
              "        3.398e+00, 7.408e+01, 5.225e-03, 1.308e-02, 1.860e-02, 1.340e-02,\n",
              "        1.389e-02, 3.532e-03, 2.499e+01, 2.341e+01, 1.588e+02, 1.956e+03,\n",
              "        1.238e-01, 1.866e-01, 2.416e-01, 1.860e-01, 2.750e-01, 8.902e-02],\n",
              "       [1.969e+01, 2.125e+01, 1.300e+02, 1.203e+03, 1.096e-01, 1.599e-01,\n",
              "        1.974e-01, 1.279e-01, 2.069e-01, 5.999e-02, 7.456e-01, 7.869e-01,\n",
              "        4.585e+00, 9.403e+01, 6.150e-03, 4.006e-02, 3.832e-02, 2.058e-02,\n",
              "        2.250e-02, 4.571e-03, 2.357e+01, 2.553e+01, 1.525e+02, 1.709e+03,\n",
              "        1.444e-01, 4.245e-01, 4.504e-01, 2.430e-01, 3.613e-01, 8.758e-02]])"
            ]
          },
          "metadata": {
            "tags": []
          },
          "execution_count": 46
        }
      ]
    },
    {
      "cell_type": "code",
      "metadata": {
        "colab": {
          "base_uri": "https://localhost:8080/",
          "height": 279
        },
        "id": "X2VLb3B8YlVi",
        "outputId": "a47d319a-e599-4a10-9ac6-fcc1ed5ea81b"
      },
      "source": [
        "plt.boxplot(cancer.data)\r\n",
        "plt.xlabel('feature')\r\n",
        "plt.ylabel('value')\r\n",
        "plt.show()"
      ],
      "execution_count": 47,
      "outputs": [
        {
          "output_type": "display_data",
          "data": {
            "image/png": "[encoded data removed]",
            "text/plain": [
              "<Figure size 432x288 with 1 Axes>"
            ]
          },
          "metadata": {
            "tags": [],
            "needs_background": "light"
          }
        }
      ]
    },
    {
      "cell_type": "code",
      "metadata": {
        "colab": {
          "base_uri": "https://localhost:8080/"
        },
        "id": "P9Peuxu4Y0cb",
        "outputId": "b81c89b3-e0d4-43b2-ea22-df55fb9546c5"
      },
      "source": [
        "cancer.feature_names[[3,13,23]]"
      ],
      "execution_count": 48,
      "outputs": [
        {
          "output_type": "execute_result",
          "data": {
            "text/plain": [
              "array(['mean area', 'area error', 'worst area'], dtype='<U23')"
            ]
          },
          "metadata": {
            "tags": []
          },
          "execution_count": 48
        }
      ]
    },
    {
      "cell_type": "code",
      "metadata": {
        "colab": {
          "base_uri": "https://localhost:8080/"
        },
        "id": "t5OP7CUlY3ou",
        "outputId": "e2b4762d-074d-4ca6-98d1-592d81fd0a97"
      },
      "source": [
        "np.unique(cancer.target, return_counts=True)"
      ],
      "execution_count": 49,
      "outputs": [
        {
          "output_type": "execute_result",
          "data": {
            "text/plain": [
              "(array([0, 1]), array([212, 357]))"
            ]
          },
          "metadata": {
            "tags": []
          },
          "execution_count": 49
        }
      ]
    },
    {
      "cell_type": "code",
      "metadata": {
        "id": "MK_nFp4OY-en"
      },
      "source": [
        "x = cancer.data\r\n",
        "y = cancer.target"
      ],
      "execution_count": 50,
      "outputs": []
    },
    {
      "cell_type": "code",
      "metadata": {
        "id": "c_Gd99jUZAoo"
      },
      "source": [
        "# 04-5. make neuron using logistic regression\r\n",
        "\r\n",
        "# divide dataset. training 75% : test 25%\r\n",
        "from sklearn.model_selection import train_test_split"
      ],
      "execution_count": 51,
      "outputs": []
    },
    {
      "cell_type": "code",
      "metadata": {
        "id": "ufDrQpmBZQ1T"
      },
      "source": [
        "x_train, x_test, y_train, y_test = train_test_split(x, y, stratify=y, test_size=0.2, random_state=42)"
      ],
      "execution_count": 52,
      "outputs": []
    },
    {
      "cell_type": "code",
      "metadata": {
        "colab": {
          "base_uri": "https://localhost:8080/"
        },
        "id": "gmeBG2r6ZYFX",
        "outputId": "747dcaf3-f7bc-4c20-ed7d-dd0cf8311b13"
      },
      "source": [
        "print(x_train.shape, x_test.shape)"
      ],
      "execution_count": 53,
      "outputs": [
        {
          "output_type": "stream",
          "text": [
            "(455, 30) (114, 30)\n"
          ],
          "name": "stdout"
        }
      ]
    },
    {
      "cell_type": "code",
      "metadata": {
        "colab": {
          "base_uri": "https://localhost:8080/"
        },
        "id": "4ddR8EKeZatL",
        "outputId": "9ca1d176-e8b8-43b5-b670-ca38b524e58a"
      },
      "source": [
        "np.unique(y_train, return_counts=True)"
      ],
      "execution_count": 54,
      "outputs": [
        {
          "output_type": "execute_result",
          "data": {
            "text/plain": [
              "(array([0, 1]), array([170, 285]))"
            ]
          },
          "metadata": {
            "tags": []
          },
          "execution_count": 54
        }
      ]
    },
    {
      "cell_type": "code",
      "metadata": {
        "id": "N1bFjYxTZdLI"
      },
      "source": [
        "class LogisticNeuron:\r\n",
        "\r\n",
        "  def __init__(self):\r\n",
        "    self.w = None\r\n",
        "    self.b = None\r\n",
        "\r\n",
        "  def forpass(self, x):\r\n",
        "    # calculate linear equation\r\n",
        "    z = np.sum(x*self.w) + self.b\r\n",
        "    return z\r\n",
        "\r\n",
        "  def backprop(self, x, err):\r\n",
        "    w_grad = x*err\r\n",
        "    b_grad = 1*err\r\n",
        "    return w_grad, b_grad\r\n",
        "\r\n",
        "  def activation(self, z):\r\n",
        "   a = 1 / (1 + np.exp(-z)) # sigmoid\r\n",
        "   return a\r\n",
        "\r\n",
        "  def fit(self, x, y, epochs=100):\r\n",
        "    self.w = np.ones(x.shape[1])\r\n",
        "    self.b = 0\r\n",
        "    for i in range(epochs):\r\n",
        "      for x_i, y_i in zip(x, y):\r\n",
        "        z = self.forpass(x_i)\r\n",
        "        a = self.activation(z)\r\n",
        "        err = -(y_i - a)\r\n",
        "        w_grad, b_grad = self.backprop(x_i, err)\r\n",
        "        self.w -= w_grad\r\n",
        "        self.b -= b_grad\r\n",
        "\r\n",
        "  def predict(self, x):\r\n",
        "    z = [self.forpass(x_i) for x_i in x]\r\n",
        "    a = self.activation(np.array(z))\r\n",
        "    return a > 0.5"
      ],
      "execution_count": 71,
      "outputs": []
    },
    {
      "cell_type": "code",
      "metadata": {
        "colab": {
          "base_uri": "https://localhost:8080/"
        },
        "id": "lJRKRZfka0YX",
        "outputId": "b843d8de-39b8-4f3a-95ae-e9a770a6795f"
      },
      "source": [
        "neuron = LogisticNeuron()\r\n",
        "neuron.fit(x_train, y_train)\r\n",
        "np.mean(neuron.predict(x_test) == y_test)"
      ],
      "execution_count": 72,
      "outputs": [
        {
          "output_type": "stream",
          "text": [
            "/usr/local/lib/python3.7/dist-packages/ipykernel_launcher.py:18: RuntimeWarning: overflow encountered in exp\n"
          ],
          "name": "stderr"
        },
        {
          "output_type": "execute_result",
          "data": {
            "text/plain": [
              "0.8245614035087719"
            ]
          },
          "metadata": {
            "tags": []
          },
          "execution_count": 72
        }
      ]
    },
    {
      "cell_type": "code",
      "metadata": {
        "id": "Bzd2yB5sa69z"
      },
      "source": [
        "# 04-6. simgle layer neural network using logistic regression neuron\r\n",
        "class SingleLayer:\r\n",
        "\r\n",
        "  def __init__(self):\r\n",
        "    self.w = None\r\n",
        "    self.b = None\r\n",
        "    self.losses = []\r\n",
        "\r\n",
        "  def forpass(self, x):\r\n",
        "    z = np.sum(x*self.w) + self.b\r\n",
        "    return z\r\n",
        "  \r\n",
        "  def backprop(self, x, err):\r\n",
        "    w_grad = x*err\r\n",
        "    b_grad = 1*err\r\n",
        "    return w_grad, b_grad\r\n",
        "\r\n",
        "  def add_bias(self, x):\r\n",
        "    return np.c_[np.ones((x.shape[0], 1)), x]\r\n",
        "\r\n",
        "  def activation(self, z):\r\n",
        "    a = 1 / (1 + np.exp(-z))\r\n",
        "    return a\r\n",
        "\r\n",
        "  def fit(self, x, y, epochs=100):\r\n",
        "    self.w = np.ones(x.shape[1])\r\n",
        "    self.b = 0\r\n",
        "    for i in range(epochs):\r\n",
        "      loss = 0\r\n",
        "      indexes = np.random.permutation(np.arange(len(x)))\r\n",
        "      for i in indexes:\r\n",
        "        z = self.forpass(x[i])\r\n",
        "        a = self.activation(z)\r\n",
        "        err = -(y[i]-a)\r\n",
        "        w_grad, b_grad = self.backprop(x[i], err)\r\n",
        "        self.w -= w_grad\r\n",
        "        self.b -= b_grad\r\n",
        "        a = np.clip(a, 1e-10, 1-1e-10)\r\n",
        "\r\n",
        "        loss += -(y[i]*np.log(a) + (1-y[i])*np.log(1-a))\r\n",
        "      self.losses.append(loss/len(y))\r\n",
        "\r\n",
        "  def predict(self, x):\r\n",
        "      z = [self.forpass(x_i) for x_i in x]\r\n",
        "      return np.array(z) > 0\r\n",
        "\r\n",
        "  def score(self, x, y):\r\n",
        "      return np.mean(self.predict(x) == y)"
      ],
      "execution_count": 84,
      "outputs": []
    },
    {
      "cell_type": "code",
      "metadata": {
        "colab": {
          "base_uri": "https://localhost:8080/"
        },
        "id": "roDiXUm9dEA0",
        "outputId": "c52b14ba-df0e-46f9-b9b9-0eadd384d802"
      },
      "source": [
        "layer = SingleLayer()\r\n",
        "layer.fit(x_train, y_train)\r\n",
        "layer.score(x_test, y_test)\r\n",
        "# 뭐지.. 더 안좋은데?"
      ],
      "execution_count": 85,
      "outputs": [
        {
          "output_type": "stream",
          "text": [
            "/usr/local/lib/python3.7/dist-packages/ipykernel_launcher.py:22: RuntimeWarning: overflow encountered in exp\n"
          ],
          "name": "stderr"
        },
        {
          "output_type": "execute_result",
          "data": {
            "text/plain": [
              "0.7280701754385965"
            ]
          },
          "metadata": {
            "tags": []
          },
          "execution_count": 85
        }
      ]
    },
    {
      "cell_type": "code",
      "metadata": {
        "colab": {
          "base_uri": "https://localhost:8080/",
          "height": 279
        },
        "id": "oCfO0kppdIbz",
        "outputId": "890d82d5-ddb9-49bd-ed66-0f9a00802bc1"
      },
      "source": [
        "# loss check\r\n",
        "plt.plot(layer.losses)\r\n",
        "plt.xlabel('epoch')\r\n",
        "plt.ylabel('loss')\r\n",
        "plt.show()"
      ],
      "execution_count": 86,
      "outputs": [
        {
          "output_type": "display_data",
          "data": {
            "image/png": "[encoded data removed]",
            "text/plain": [
              "<Figure size 432x288 with 1 Axes>"
            ]
          },
          "metadata": {
            "tags": [],
            "needs_background": "light"
          }
        }
      ]
    },
    {
      "cell_type": "code",
      "metadata": {
        "id": "Mtu4fiOgfb0h"
      },
      "source": [
        ""
      ],
      "execution_count": null,
      "outputs": []
    }
  ]
}