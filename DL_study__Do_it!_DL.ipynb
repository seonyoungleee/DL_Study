{
  "nbformat": 4,
  "nbformat_minor": 0,
  "metadata": {
    "colab": {
      "name": "DL study_ Do it! DL",
      "provenance": [],
      "authorship_tag": "ABX9TyMXbPmti9z19rfxhSJifaaw"
    },
    "kernelspec": {
      "name": "python3",
      "display_name": "Python 3"
    }
  },
  "cells": [
    {
      "cell_type": "markdown",
      "metadata": {
        "id": "fDcfqmpPRdYa"
      },
      "source": [
        "Study material: Do it! Deepleaning 입문"
      ]
    },
    {
      "cell_type": "markdown",
      "metadata": {
        "id": "XfxUInHFVZgh"
      },
      "source": [
        "Chapter 2.\n",
        "Goal: Run simple functions in numpy, matplotlib in colab environment"
      ]
    },
    {
      "cell_type": "markdown",
      "metadata": {
        "id": "PWxBPqfGSNWI"
      },
      "source": [
        "1D(1x3), 2D(2x3) list"
      ]
    },
    {
      "cell_type": "code",
      "metadata": {
        "colab": {
          "base_uri": "https://localhost:8080/"
        },
        "id": "nSr4yDN6Rh9b",
        "outputId": "d6eb833e-a2cb-4516-dd0d-2f7a7b7dc6f5"
      },
      "source": [
        "my_list = [10, 'hello lost', 20]\n",
        "print(my_list[1])"
      ],
      "execution_count": null,
      "outputs": [
        {
          "output_type": "stream",
          "text": [
            "hello lost\n"
          ],
          "name": "stdout"
        }
      ]
    },
    {
      "cell_type": "code",
      "metadata": {
        "id": "49zrLz44Sb3Y"
      },
      "source": [
        "my_list_2 = [[10,20,30],[40,50,60]]"
      ],
      "execution_count": null,
      "outputs": []
    },
    {
      "cell_type": "code",
      "metadata": {
        "colab": {
          "base_uri": "https://localhost:8080/"
        },
        "id": "_qbmdPmxS3B7",
        "outputId": "9693fec6-4c09-4a85-fb87-8c66cc670777"
      },
      "source": [
        "print(my_list_2[1][1])"
      ],
      "execution_count": null,
      "outputs": [
        {
          "output_type": "stream",
          "text": [
            "50\n"
          ],
          "name": "stdout"
        }
      ]
    },
    {
      "cell_type": "markdown",
      "metadata": {
        "id": "N1mLtARjS8La"
      },
      "source": [
        "numpy import & check ver."
      ]
    },
    {
      "cell_type": "code",
      "metadata": {
        "colab": {
          "base_uri": "https://localhost:8080/"
        },
        "id": "J4dVgj0hS_CF",
        "outputId": "745fb1d0-6dc4-4b0a-c3bd-f2574c63aaaf"
      },
      "source": [
        "import numpy as np\n",
        "print(np.__version__)"
      ],
      "execution_count": null,
      "outputs": [
        {
          "output_type": "stream",
          "text": [
            "1.19.5\n"
          ],
          "name": "stdout"
        }
      ]
    },
    {
      "cell_type": "markdown",
      "metadata": {
        "id": "J-dyz-NHTIVB"
      },
      "source": [
        "2D array using array()"
      ]
    },
    {
      "cell_type": "code",
      "metadata": {
        "colab": {
          "base_uri": "https://localhost:8080/"
        },
        "id": "RgcrwZZITOLz",
        "outputId": "689c26b7-b502-429a-e6e4-f1529c59e93d"
      },
      "source": [
        "my_arr = np.array([[10,20,30],[40,50,60]])\n",
        "print(my_arr)"
      ],
      "execution_count": null,
      "outputs": [
        {
          "output_type": "stream",
          "text": [
            "[[10 20 30]\n",
            " [40 50 60]]\n"
          ],
          "name": "stdout"
        }
      ]
    },
    {
      "cell_type": "markdown",
      "metadata": {
        "id": "1JuHbzlzTWRS"
      },
      "source": [
        "check np array using type(): \n",
        "the last line of the code cell prints the result without print()"
      ]
    },
    {
      "cell_type": "code",
      "metadata": {
        "colab": {
          "base_uri": "https://localhost:8080/"
        },
        "id": "qTui3d2nTaVj",
        "outputId": "20bbbb81-d4a7-481a-81e0-2279a0cc2a21"
      },
      "source": [
        "type(my_arr)"
      ],
      "execution_count": null,
      "outputs": [
        {
          "output_type": "execute_result",
          "data": {
            "text/plain": [
              "numpy.ndarray"
            ]
          },
          "metadata": {
            "tags": []
          },
          "execution_count": 7
        }
      ]
    },
    {
      "cell_type": "markdown",
      "metadata": {
        "id": "uSjySEn2Tt0k"
      },
      "source": [
        "element in numpy array"
      ]
    },
    {
      "cell_type": "code",
      "metadata": {
        "colab": {
          "base_uri": "https://localhost:8080/"
        },
        "id": "jpd_m6T3TwY1",
        "outputId": "5de1a530-344d-43f5-86d4-56740b7b0aaa"
      },
      "source": [
        "my_arr[0][2]"
      ],
      "execution_count": null,
      "outputs": [
        {
          "output_type": "execute_result",
          "data": {
            "text/plain": [
              "30"
            ]
          },
          "metadata": {
            "tags": []
          },
          "execution_count": 8
        }
      ]
    },
    {
      "cell_type": "markdown",
      "metadata": {
        "id": "O1GLL0h0TzUM"
      },
      "source": [
        "numpy built-in function (faster than 'for statement')"
      ]
    },
    {
      "cell_type": "code",
      "metadata": {
        "colab": {
          "base_uri": "https://localhost:8080/"
        },
        "id": "d8vKI8CST68w",
        "outputId": "08a1ed9d-20e7-47d5-9cf1-4d47240a5db2"
      },
      "source": [
        "np.sum(my_arr)"
      ],
      "execution_count": null,
      "outputs": [
        {
          "output_type": "execute_result",
          "data": {
            "text/plain": [
              "210"
            ]
          },
          "metadata": {
            "tags": []
          },
          "execution_count": 9
        }
      ]
    },
    {
      "cell_type": "markdown",
      "metadata": {
        "id": "VL8q7sIaUJWH"
      },
      "source": [
        "draw graph using matplotlib"
      ]
    },
    {
      "cell_type": "code",
      "metadata": {
        "id": "9PpTB-djUMsL"
      },
      "source": [
        "import matplotlib.pyplot as plt"
      ],
      "execution_count": null,
      "outputs": []
    },
    {
      "cell_type": "markdown",
      "metadata": {
        "id": "rOVhjw7WUUBS"
      },
      "source": [
        "draw line plot"
      ]
    },
    {
      "cell_type": "code",
      "metadata": {
        "colab": {
          "base_uri": "https://localhost:8080/",
          "height": 265
        },
        "id": "S3KgvJMiUQzC",
        "outputId": "fb35b6e6-35fa-4ac3-a556-afbb24c1ce05"
      },
      "source": [
        "plt.plot([1,2,3,4,5],[1,4,9,16,25])\n",
        "plt.show()"
      ],
      "execution_count": null,
      "outputs": [
        {
          "output_type": "display_data",
          "data": {
            "image/png": "[encoded data removed]",
            "text/plain": [
              "<Figure size 432x288 with 1 Axes>"
            ]
          },
          "metadata": {
            "tags": [],
            "needs_background": "light"
          }
        }
      ]
    },
    {
      "cell_type": "markdown",
      "metadata": {
        "id": "e7_mwDz5UWf1"
      },
      "source": [
        "draw scatter plot"
      ]
    },
    {
      "cell_type": "code",
      "metadata": {
        "colab": {
          "base_uri": "https://localhost:8080/",
          "height": 265
        },
        "id": "Rq3OXepDUevF",
        "outputId": "a86ddaa3-c844-4e2d-d24f-95b9e57ed1b4"
      },
      "source": [
        "plt.scatter([1,2,3,4,5],[1,4,9,16,25])\n",
        "plt.show()"
      ],
      "execution_count": null,
      "outputs": [
        {
          "output_type": "display_data",
          "data": {
            "image/png": "[encoded data removed]",
            "text/plain": [
              "<Figure size 432x288 with 1 Axes>"
            ]
          },
          "metadata": {
            "tags": [],
            "needs_background": "light"
          }
        }
      ]
    },
    {
      "cell_type": "markdown",
      "metadata": {
        "id": "WZz8I2IhUmaV"
      },
      "source": [
        "draw scatter plot with numpy array"
      ]
    },
    {
      "cell_type": "code",
      "metadata": {
        "colab": {
          "base_uri": "https://localhost:8080/",
          "height": 265
        },
        "id": "HMrtTaOLUkRr",
        "outputId": "0d3244d3-ef75-41b5-c7f3-9dad2c2b5423"
      },
      "source": [
        "x = np.random.randn(1000) # 표준 정규 분포를 따르는 난수 1000개 생성\n",
        "y = np.random.randn(1000) # 표준 정규 분포를 따르는 난수 1000개 생성\n",
        "plt.scatter(x, y)\n",
        "plt.show()"
      ],
      "execution_count": null,
      "outputs": [
        {
          "output_type": "display_data",
          "data": {
            "image/png": "[encoded data removed]",
            "text/plain": [
              "<Figure size 432x288 with 1 Axes>"
            ]
          },
          "metadata": {
            "tags": [],
            "needs_background": "light"
          }
        }
      ]
    },
    {
      "cell_type": "markdown",
      "metadata": {
        "id": "_8bnrq3MVSkO"
      },
      "source": [
        ""
      ]
    },
    {
      "cell_type": "markdown",
      "metadata": {
        "id": "LhGpsQKeV_wT"
      },
      "source": [
        "Chapter 3. Goal: Run linear regression, GD (Gradient descent), loss function"
      ]
    },
    {
      "cell_type": "markdown",
      "metadata": {
        "id": "BhE7O6e4Wi2P"
      },
      "source": [
        "Goal of linear regression: To find slope a and intercept b\n",
        "\n",
        "y=ax+b"
      ]
    },
    {
      "cell_type": "markdown",
      "metadata": {
        "id": "MvHb2pPBcUaR"
      },
      "source": [
        "example: diabetes datasets from sklearn\n",
        "\n",
        "type of the data diabetes: Bunch class (like python dictionary)\n",
        "\n",
        "input: data(442x10), output: target(442x1)"
      ]
    },
    {
      "cell_type": "code",
      "metadata": {
        "id": "r0kVcPRaU4I9"
      },
      "source": [
        "from sklearn.datasets import load_diabetes\n",
        "diabetes = load_diabetes()"
      ],
      "execution_count": null,
      "outputs": []
    },
    {
      "cell_type": "code",
      "metadata": {
        "colab": {
          "base_uri": "https://localhost:8080/"
        },
        "id": "JtsJLdn_dJPs",
        "outputId": "8f60a603-7a57-46cd-be60-309b532ea48f"
      },
      "source": [
        "print(diabetes.data.shape, diabetes.target.shape)"
      ],
      "execution_count": null,
      "outputs": [
        {
          "output_type": "stream",
          "text": [
            "(442, 10) (442,)\n"
          ],
          "name": "stdout"
        }
      ]
    },
    {
      "cell_type": "code",
      "metadata": {
        "colab": {
          "base_uri": "https://localhost:8080/"
        },
        "id": "NVFWJsPIdw7T",
        "outputId": "25c35af1-ba41-4a61-8554-2222731718de"
      },
      "source": [
        "diabetes.data[0:3] # 3data * 10features"
      ],
      "execution_count": null,
      "outputs": [
        {
          "output_type": "execute_result",
          "data": {
            "text/plain": [
              "array([[ 0.03807591,  0.05068012,  0.06169621,  0.02187235, -0.0442235 ,\n",
              "        -0.03482076, -0.04340085, -0.00259226,  0.01990842, -0.01764613],\n",
              "       [-0.00188202, -0.04464164, -0.05147406, -0.02632783, -0.00844872,\n",
              "        -0.01916334,  0.07441156, -0.03949338, -0.06832974, -0.09220405],\n",
              "       [ 0.08529891,  0.05068012,  0.04445121, -0.00567061, -0.04559945,\n",
              "        -0.03419447, -0.03235593, -0.00259226,  0.00286377, -0.02593034]])"
            ]
          },
          "metadata": {
            "tags": []
          },
          "execution_count": 19
        }
      ]
    },
    {
      "cell_type": "code",
      "metadata": {
        "colab": {
          "base_uri": "https://localhost:8080/"
        },
        "id": "-uI4DNU4eJ3c",
        "outputId": "a96dd95a-0ce9-4aa9-bd42-a21de2f06b71"
      },
      "source": [
        "diabetes.target[:3] # targets of 3 data"
      ],
      "execution_count": null,
      "outputs": [
        {
          "output_type": "execute_result",
          "data": {
            "text/plain": [
              "array([151.,  75., 141.])"
            ]
          },
          "metadata": {
            "tags": []
          },
          "execution_count": 20
        }
      ]
    },
    {
      "cell_type": "markdown",
      "metadata": {
        "id": "nN5LW4zMeasS"
      },
      "source": [
        "visualization using matplotlib of the data of diabetes\n",
        "\n",
        "(with 2 features to draw in 2D space)"
      ]
    },
    {
      "cell_type": "code",
      "metadata": {
        "colab": {
          "base_uri": "https://localhost:8080/",
          "height": 279
        },
        "id": "Zan6czbueirH",
        "outputId": "9524cd32-5c13-4a0f-841b-7d30854baa0d"
      },
      "source": [
        "import matplotlib.pyplot as plt\n",
        "plt.scatter(diabetes.data[:,2], diabetes.target) # x: first, second features of all patients. y: targets of all patients.\n",
        "plt.xlabel('x')\n",
        "plt.ylabel('y')\n",
        "plt.show()"
      ],
      "execution_count": null,
      "outputs": [
        {
          "output_type": "display_data",
          "data": {
            "image/png": "[encoded data removed]",
            "text/plain": [
              "<Figure size 432x288 with 1 Axes>"
            ]
          },
          "metadata": {
            "tags": [],
            "needs_background": "light"
          }
        }
      ]
    },
    {
      "cell_type": "markdown",
      "metadata": {
        "id": "lJ8cbLYRfLn5"
      },
      "source": [
        "preparation of the training data"
      ]
    },
    {
      "cell_type": "code",
      "metadata": {
        "id": "4WwHM8iyfGrN"
      },
      "source": [
        "x = diabetes.data[:,2]\n",
        "y = diabetes.target"
      ],
      "execution_count": null,
      "outputs": []
    },
    {
      "cell_type": "markdown",
      "metadata": {
        "id": "PXnqZ7_Bm_Vj"
      },
      "source": [
        "example: find w, b\n",
        "\n",
        "1) set random w, b\n",
        "\n",
        "2) calculate y hat from random sample from x\n",
        "\n",
        "3) compare y hat and y\n",
        "\n",
        "4) update w, b\n",
        "\n",
        "5) repeat 2-4 using all samples"
      ]
    },
    {
      "cell_type": "code",
      "metadata": {
        "id": "Kn5tUUfApsd3"
      },
      "source": [
        "w = 1.0\n",
        "b = 1.0"
      ],
      "execution_count": null,
      "outputs": []
    },
    {
      "cell_type": "code",
      "metadata": {
        "colab": {
          "base_uri": "https://localhost:8080/"
        },
        "id": "JppmzsQBqKjP",
        "outputId": "9b6b9aaf-7612-4aea-9310-d6f6e6b4341c"
      },
      "source": [
        "y_hat = x[0]*w + b\n",
        "print(y_hat) # target y: 151"
      ],
      "execution_count": null,
      "outputs": [
        {
          "output_type": "stream",
          "text": [
            "1.0616962065186886\n"
          ],
          "name": "stdout"
        }
      ]
    },
    {
      "cell_type": "code",
      "metadata": {
        "colab": {
          "base_uri": "https://localhost:8080/"
        },
        "id": "6lz_RdJTqQE-",
        "outputId": "1f16f38c-404e-41d2-d859-bd51acb38b66"
      },
      "source": [
        "print(y[0])"
      ],
      "execution_count": null,
      "outputs": [
        {
          "output_type": "stream",
          "text": [
            "151.0\n"
          ],
          "name": "stdout"
        }
      ]
    },
    {
      "cell_type": "code",
      "metadata": {
        "colab": {
          "base_uri": "https://localhost:8080/"
        },
        "id": "l9uf5smxqTi1",
        "outputId": "780b4980-8886-4757-e7f2-d9ff0b0ef0e6"
      },
      "source": [
        "# update y_hat by changing w value\n",
        "w_inc = w + 0.1\n",
        "y_hat_inc = x[0] * w_inc + b\n",
        "print(y_hat_inc)"
      ],
      "execution_count": null,
      "outputs": [
        {
          "output_type": "stream",
          "text": [
            "1.0678658271705574\n"
          ],
          "name": "stdout"
        }
      ]
    },
    {
      "cell_type": "code",
      "metadata": {
        "colab": {
          "base_uri": "https://localhost:8080/"
        },
        "id": "dq33KV8fquix",
        "outputId": "e35058e1-33c3-45d4-d3d1-1a943237ad3b"
      },
      "source": [
        "# update w (dy_hat / dw)\n",
        "w_rate = (y_hat_inc - y_hat) / (w_inc - w)\n",
        "print(w_rate)\n",
        "# w_rate: w rate about x[0]"
      ],
      "execution_count": null,
      "outputs": [
        {
          "output_type": "stream",
          "text": [
            "0.061696206518688734\n"
          ],
          "name": "stdout"
        }
      ]
    },
    {
      "cell_type": "markdown",
      "metadata": {
        "id": "Gm0rAuNhrymh"
      },
      "source": [
        "update w using w_rate"
      ]
    },
    {
      "cell_type": "code",
      "metadata": {
        "colab": {
          "base_uri": "https://localhost:8080/"
        },
        "id": "bmf02EF9rZ-i",
        "outputId": "3d2682ae-fbfc-47b5-a435-143d75a68868"
      },
      "source": [
        "w_new = w + w_rate\n",
        "print(w_new)"
      ],
      "execution_count": null,
      "outputs": [
        {
          "output_type": "stream",
          "text": [
            "1.0616962065186888\n"
          ],
          "name": "stdout"
        }
      ]
    },
    {
      "cell_type": "markdown",
      "metadata": {
        "id": "ULo4g4Kds4k3"
      },
      "source": [
        "update b using b_rate"
      ]
    },
    {
      "cell_type": "code",
      "metadata": {
        "colab": {
          "base_uri": "https://localhost:8080/"
        },
        "id": "oMTaAUctsxmb",
        "outputId": "94ec1374-0cc4-4597-f3a6-56c1fdb35375"
      },
      "source": [
        "b_inc = b + 0.1\n",
        "y_hat_inc = x[0] * w + b_inc\n",
        "print(y_hat_inc)"
      ],
      "execution_count": null,
      "outputs": [
        {
          "output_type": "stream",
          "text": [
            "1.1616962065186887\n"
          ],
          "name": "stdout"
        }
      ]
    },
    {
      "cell_type": "code",
      "metadata": {
        "colab": {
          "base_uri": "https://localhost:8080/"
        },
        "id": "9NedCDRVtAOC",
        "outputId": "57d5bf1f-ac79-4f48-9e7a-088a87e70014"
      },
      "source": [
        "b_rate = (y_hat_inc - y_hat) / (b_inc - b)\n",
        "print(b_rate)"
      ],
      "execution_count": null,
      "outputs": [
        {
          "output_type": "stream",
          "text": [
            "1.0\n"
          ],
          "name": "stdout"
        }
      ]
    },
    {
      "cell_type": "code",
      "metadata": {
        "colab": {
          "base_uri": "https://localhost:8080/"
        },
        "id": "Is08LNeQtFha",
        "outputId": "914630d8-8e0e-42ac-ae2a-b14c35660484"
      },
      "source": [
        "b_new = b + 1\n",
        "print(b_new)"
      ],
      "execution_count": null,
      "outputs": [
        {
          "output_type": "stream",
          "text": [
            "2.0\n"
          ],
          "name": "stdout"
        }
      ]
    },
    {
      "cell_type": "markdown",
      "metadata": {
        "id": "bJEldo9TtTnu"
      },
      "source": [
        "disadvantages of above method:\n",
        "\n",
        "1) if y_hat is too small than y, hard to update w and b value with large scale\n",
        "\n",
        "2) if y_hat is bigger than y, cannot decrease y_hat\n",
        "\n",
        "==> Backpropagation is the solution!"
      ]
    },
    {
      "cell_type": "markdown",
      "metadata": {
        "id": "-uVOF1oZuH8j"
      },
      "source": [
        "[Backpropagation]\n",
        "by multiplying w_rate by (y hat - y),\n",
        "\n",
        "1) can update w,b effectively when y_hat is too small than y\n",
        "\n",
        "2) can update the direction of w, b when y_hat value oversteps y"
      ]
    },
    {
      "cell_type": "code",
      "metadata": {
        "colab": {
          "base_uri": "https://localhost:8080/"
        },
        "id": "sSRjkjqXtN65",
        "outputId": "03e81211-d93b-4c48-b80d-43f2bef6d2e8"
      },
      "source": [
        "# update w with err * rate\n",
        "# x[0]\n",
        "err = y[0] - y_hat\n",
        "w_new = w + w_rate * err\n",
        "b_new = b + 1 * err\n",
        "print(w_new, b_new)"
      ],
      "execution_count": null,
      "outputs": [
        {
          "output_type": "stream",
          "text": [
            "10.250624555904514 150.9383037934813\n"
          ],
          "name": "stdout"
        }
      ]
    },
    {
      "cell_type": "code",
      "metadata": {
        "colab": {
          "base_uri": "https://localhost:8080/"
        },
        "id": "y4XHk0upvMS6",
        "outputId": "d67c9465-d1bf-4501-a6d6-a112b4993325"
      },
      "source": [
        "# w_rate = x[1]\n",
        "y_hat = x[1] * w_new + b_new\n",
        "err = y[1] - y_hat\n",
        "w_rate = x[1]\n",
        "w_new = w_new + w_rate * err\n",
        "b_new = b_new + 1 * err\n",
        "print(w_new, b_new)"
      ],
      "execution_count": null,
      "outputs": [
        {
          "output_type": "stream",
          "text": [
            "14.132317616381767 75.52764127612664\n"
          ],
          "name": "stdout"
        }
      ]
    },
    {
      "cell_type": "code",
      "metadata": {
        "colab": {
          "base_uri": "https://localhost:8080/"
        },
        "id": "PDXN_PR0vosZ",
        "outputId": "14816302-ba69-44b7-9b65-e313c8fd1361"
      },
      "source": [
        "# repeat using all sample\n",
        "for x_i, y_i in zip(x,y): # zip(): gets each element from multi array\n",
        "  y_hat = x_i * w + b\n",
        "  err = y_i - y_hat\n",
        "  w_rate = x_i\n",
        "  w = w + w_rate * err\n",
        "  b = b + 1 * err\n",
        "print(w,b)"
      ],
      "execution_count": null,
      "outputs": [
        {
          "output_type": "stream",
          "text": [
            "587.8654539985689 99.40935564531424\n"
          ],
          "name": "stdout"
        }
      ]
    },
    {
      "cell_type": "code",
      "metadata": {
        "colab": {
          "base_uri": "https://localhost:8080/",
          "height": 279
        },
        "id": "DRVbwmr_wMgy",
        "outputId": "229ec394-5633-4177-db3e-77f6c606f3c0"
      },
      "source": [
        "# draw the model(w,b) to check it fits well on dataset\n",
        "plt.scatter(x, y)\n",
        "pt1 = (-0.1, -0.1 * w + b)\n",
        "pt2 = (0.15, 0.15 * 2 + b)\n",
        "plt.plot([pt1[0], pt2[0]], [pt1[1], pt2[1]])\n",
        "plt.xlabel('x')\n",
        "plt.ylabel('y')\n",
        "plt.show()"
      ],
      "execution_count": null,
      "outputs": [
        {
          "output_type": "display_data",
          "data": {
            "image/png": "[encoded data removed]",
            "text/plain": [
              "<Figure size 432x288 with 1 Axes>"
            ]
          },
          "metadata": {
            "tags": [],
            "needs_background": "light"
          }
        }
      ]
    },
    {
      "cell_type": "code",
      "metadata": {
        "colab": {
          "base_uri": "https://localhost:8080/"
        },
        "id": "_yzDzdakwfS1",
        "outputId": "70004ac4-549d-472f-db9c-8309a378f5a9"
      },
      "source": [
        "# repeat 100 epochs\n",
        "for i in range(1,100):\n",
        "  for x_i, y_i in zip(x, y):\n",
        "    y_hat = x_i * w + b\n",
        "    err = y_i - y_hat\n",
        "    w_rate = x_i\n",
        "    w = w + w_rate * err\n",
        "    b = b + 1 * err\n",
        "print(w, b)"
      ],
      "execution_count": null,
      "outputs": [
        {
          "output_type": "stream",
          "text": [
            "913.5973364345905 123.39414383177204\n"
          ],
          "name": "stdout"
        }
      ]
    },
    {
      "cell_type": "code",
      "metadata": {
        "colab": {
          "base_uri": "https://localhost:8080/",
          "height": 279
        },
        "id": "tDQFQzqayHM0",
        "outputId": "c95ff7e1-80e2-4b08-cee8-7071d3f67422"
      },
      "source": [
        "# draw updated model\n",
        "plt.scatter(x, y)\n",
        "pt1 = (-0.1, -0.1 * w + b)\n",
        "pt2 = (0.15, 0.15 * w + b)\n",
        "plt.plot([pt1[0], pt2[0]], [pt1[1], pt2[1]])\n",
        "plt.xlabel('x')\n",
        "plt.ylabel('y')\n",
        "plt.show()\n",
        "# y_hat = 913.6x + 123.4"
      ],
      "execution_count": null,
      "outputs": [
        {
          "output_type": "display_data",
          "data": {
            "image/png": "[encoded data removed]",
            "text/plain": [
              "<Figure size 432x288 with 1 Axes>"
            ]
          },
          "metadata": {
            "tags": [],
            "needs_background": "light"
          }
        }
      ]
    },
    {
      "cell_type": "code",
      "metadata": {
        "colab": {
          "base_uri": "https://localhost:8080/"
        },
        "id": "P_R94_MKyr_k",
        "outputId": "0a10803d-ca23-4d7c-d59f-94d3d0019d97"
      },
      "source": [
        "# predictation with the model\n",
        "x_new = 0.18\n",
        "y_pred = x_new * w + b\n",
        "print(y_pred)"
      ],
      "execution_count": null,
      "outputs": [
        {
          "output_type": "stream",
          "text": [
            "287.8416643899983\n"
          ],
          "name": "stdout"
        }
      ]
    },
    {
      "cell_type": "code",
      "metadata": {
        "colab": {
          "base_uri": "https://localhost:8080/",
          "height": 279
        },
        "id": "8b42A2d6y92J",
        "outputId": "fc810538-820d-4a99-999a-2e2613641386"
      },
      "source": [
        "plt.scatter(x,y)\n",
        "plt.scatter(x_new, y_pred)\n",
        "plt.xlabel('x')\n",
        "plt.ylabel('y')\n",
        "plt.show()"
      ],
      "execution_count": null,
      "outputs": [
        {
          "output_type": "display_data",
          "data": {
            "image/png": "[encoded data removed]",
            "text/plain": [
              "<Figure size 432x288 with 1 Axes>"
            ]
          },
          "metadata": {
            "tags": [],
            "needs_background": "light"
          }
        }
      ]
    },
    {
      "cell_type": "markdown",
      "metadata": {
        "id": "wpAJDeQdzllw"
      },
      "source": [
        "The correlation between loss function and gradient descent"
      ]
    },
    {
      "cell_type": "code",
      "metadata": {
        "id": "Z_2r5s-uzFnH"
      },
      "source": [
        ""
      ],
      "execution_count": null,
      "outputs": []
    }
  ]
}